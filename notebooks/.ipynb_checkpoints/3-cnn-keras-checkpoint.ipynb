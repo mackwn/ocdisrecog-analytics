{
 "cells": [
  {
   "cell_type": "markdown",
   "id": "hundred-stationery",
   "metadata": {},
   "source": [
    "#### "
   ]
  },
  {
   "cell_type": "code",
   "execution_count": 130,
   "id": "adaptive-slave",
   "metadata": {},
   "outputs": [],
   "source": [
    "import pandas as pd\n",
    "import numpy as np\n",
    "import matplotlib.pyplot as plt\n",
    "import os\n",
    "import seaborn as sns\n",
    "from functools import reduce\n",
    "import cv2 \n",
    "import math\n",
    "import pickle\n",
    "from mpl_toolkits.axes_grid1 import ImageGrid\n",
    "import matplotlib.pyplot as plt\n",
    "from sklearn.model_selection import train_test_split\n",
    "\n",
    "from sklearn.metrics import precision_recall_fscore_support\n",
    "\n",
    "from keras.models import Sequential\n",
    "from keras.layers import Dense, Conv2D, Flatten, MaxPooling2D\n",
    "from keras.applications import ResNet50\n",
    "from keras.applications.resnet import preprocess_input\n",
    "from keras.callbacks import LambdaCallback\n",
    "\n",
    "from scipy.optimize import minimize"
   ]
  },
  {
   "cell_type": "code",
   "execution_count": 5,
   "id": "south-exclusive",
   "metadata": {},
   "outputs": [
    {
     "name": "stdout",
     "output_type": "stream",
     "text": [
      "C:\\Users\\smcko\\Documents\\programming\\ocdisrecog-analytics\n"
     ]
    }
   ],
   "source": [
    "if os.path.split(os.getcwd())[-1] == 'notebooks': os.chdir(os.path.split(os.getcwd())[-2])\n",
    "print(os.getcwd())"
   ]
  },
  {
   "cell_type": "code",
   "execution_count": 53,
   "id": "literary-blowing",
   "metadata": {},
   "outputs": [],
   "source": [
    "header, images = pickle.load(open('data/preprocessed_array_150x150.pkl','rb'))"
   ]
  },
  {
   "cell_type": "code",
   "execution_count": 54,
   "id": "independent-staff",
   "metadata": {},
   "outputs": [],
   "source": [
    "SHAPE = (150,150,3)"
   ]
  },
  {
   "cell_type": "code",
   "execution_count": 55,
   "id": "smooth-niagara",
   "metadata": {},
   "outputs": [],
   "source": [
    "Y = header[:,7:15].astype(int)"
   ]
  },
  {
   "cell_type": "code",
   "execution_count": 56,
   "id": "seasonal-fashion",
   "metadata": {},
   "outputs": [],
   "source": [
    "X_train, X_test, y_train, y_test, ixes_train, ixes_test = train_test_split(images, Y, np.arange(images.shape[0]),\n",
    "                                                    test_size=.1, stratify=header[:,16], random_state=0)"
   ]
  },
  {
   "cell_type": "code",
   "execution_count": 57,
   "id": "beginning-announcement",
   "metadata": {},
   "outputs": [],
   "source": [
    "X_train, X_cv, y_train, y_cv = train_test_split(X_train, y_train, test_size=.1, stratify=header[ixes_train,16], random_state=0)"
   ]
  },
  {
   "cell_type": "code",
   "execution_count": 59,
   "id": "accepted-medicine",
   "metadata": {},
   "outputs": [],
   "source": [
    "X_train = X_train.reshape(X_train.shape[0], 150, 150, 3)\n",
    "X_cv = X_cv.reshape(X_cv.shape[0], 150, 150, 3)"
   ]
  },
  {
   "cell_type": "markdown",
   "id": "narrative-louisiana",
   "metadata": {},
   "source": [
    "## Model - Self Designed"
   ]
  },
  {
   "cell_type": "markdown",
   "id": "inclusive-heater",
   "metadata": {},
   "source": [
    "## Functions"
   ]
  },
  {
   "cell_type": "code",
   "execution_count": 143,
   "id": "opponent-capacity",
   "metadata": {},
   "outputs": [],
   "source": [
    "def testmodel(epoch, logs):\n",
    "    #predx, predy = next(data_iterator)\n",
    "    \n",
    "    y_pred = model_simple.predict(\n",
    "        X_train\n",
    "    )\n",
    "    \n",
    "    y_pred_cv = model_simple.predict(X_cv)\n",
    "    \n",
    "    threshold = find_threshold(y_train, y_pred)\n",
    "    \n",
    "    print(\"Training F1 Score\\n\")\n",
    "    print(multilabel_f1score(y_train, apply_thresh(y_pred, threshold)))\n",
    "    print(\"Validation F1 Score\\n\")\n",
    "    print(multilabel_f1score(y_cv, apply_thresh(y_pred_cv, threshold)))\n",
    "\n",
    "testmodelcb = LambdaCallback(on_epoch_end=testmodel)\n",
    "\n",
    "def f1(ar, ar_pred):\n",
    "    tp = len(ar[(ar==ar_pred) & (ar_pred==1)])\n",
    "    fp = len(ar[(ar!=ar_pred) & (ar==1)])\n",
    "    fn = len(ar[(ar!=ar_pred) & (ar_pred==1)])\n",
    "   # print(tp,fn,fp)\n",
    "    if ((tp+fp) == 0) or ((tp+fn) == 0): return 0\n",
    "    precision = tp/(tp+fp)\n",
    "    recall = tp/(tp+fn)\n",
    "    if (precision+recall) == 0: return 0\n",
    "    return 2*(precision*recall)/(precision+recall)\n",
    "\n",
    "def multilabel_f1score(y, y_pred):\n",
    "    scores=[]\n",
    "    for col_ix in range(y.shape[1]):\n",
    "        scores.append(f1(y[:, col_ix], y_pred[:, col_ix]))\n",
    "    return np.mean(scores), scores\n",
    "\n",
    "def apply_thresh(y_pred, threshold):\n",
    "    out = y_pred.copy()\n",
    "    out[out>=threshold] = 1\n",
    "    out[out<threshold] = 0\n",
    "    return out\n",
    "\n",
    "\n",
    "def threshold_func(x, y, y_pred):\n",
    "    score, _ = multilabel_f1score(y, apply_thresh(y_pred, x))\n",
    "    return 1-score\n",
    "\n",
    "def find_threshold(y, y_pred):\n",
    "    threshold = minimize(threshold_func, .25, args=(y, y_pred), method='Nelder-Mead')\n",
    "    return threshold.x"
   ]
  },
  {
   "cell_type": "markdown",
   "id": "sharing-sauce",
   "metadata": {},
   "source": [
    "## Simple model"
   ]
  },
  {
   "cell_type": "code",
   "execution_count": 85,
   "id": "foreign-holly",
   "metadata": {},
   "outputs": [],
   "source": [
    "model_simple = Sequential()"
   ]
  },
  {
   "cell_type": "code",
   "execution_count": 87,
   "id": "oriented-lambda",
   "metadata": {},
   "outputs": [],
   "source": [
    "model_simple.add(Conv2D(8, kernel_size=3, padding='same', activation=\"relu\", input_shape=SHAPE))\n",
    "model_simple.add(MaxPooling2D(pool_size=(4,4), strides=(2,2)))\n",
    "\n",
    "model_simple.add(Conv2D(16, kernel_size=3, padding='same', activation=\"relu\"))\n",
    "model_simple.add(MaxPooling2D(pool_size=(4,4), strides=(2,2)))\n",
    "\n",
    "model_simple.add(Conv2D(32, kernel_size=3, padding='same', activation=\"relu\"))\n",
    "model_simple.add(MaxPooling2D(pool_size=(4,4), strides=(2,2)))\n",
    "\n",
    "model_simple.add(Conv2D(64, kernel_size=3, padding='same', activation=\"relu\"))\n",
    "model_simple.add(MaxPooling2D(pool_size=(4,4), strides=(2,2)))\n",
    "\n",
    "model_simple.add(Conv2D(128, kernel_size=3, padding='same', activation=\"relu\"))\n",
    "model_simple.add(MaxPooling2D(pool_size=(4,4), strides=(2,2)))\n",
    "\n",
    "\n",
    "model_simple.add(Flatten())\n",
    "model_simple.add(Dense(8, activation='sigmoid'))"
   ]
  },
  {
   "cell_type": "code",
   "execution_count": 88,
   "id": "eight-mount",
   "metadata": {},
   "outputs": [
    {
     "name": "stdout",
     "output_type": "stream",
     "text": [
      "Model: \"sequential_3\"\n",
      "_________________________________________________________________\n",
      "Layer (type)                 Output Shape              Param #   \n",
      "=================================================================\n",
      "conv2d (Conv2D)              (None, 150, 150, 8)       224       \n",
      "_________________________________________________________________\n",
      "max_pooling2d (MaxPooling2D) (None, 74, 74, 8)         0         \n",
      "_________________________________________________________________\n",
      "conv2d_1 (Conv2D)            (None, 74, 74, 16)        1168      \n",
      "_________________________________________________________________\n",
      "max_pooling2d_1 (MaxPooling2 (None, 36, 36, 16)        0         \n",
      "_________________________________________________________________\n",
      "conv2d_2 (Conv2D)            (None, 36, 36, 32)        4640      \n",
      "_________________________________________________________________\n",
      "max_pooling2d_2 (MaxPooling2 (None, 17, 17, 32)        0         \n",
      "_________________________________________________________________\n",
      "conv2d_3 (Conv2D)            (None, 17, 17, 64)        18496     \n",
      "_________________________________________________________________\n",
      "max_pooling2d_3 (MaxPooling2 (None, 7, 7, 64)          0         \n",
      "_________________________________________________________________\n",
      "conv2d_4 (Conv2D)            (None, 7, 7, 128)         73856     \n",
      "_________________________________________________________________\n",
      "max_pooling2d_4 (MaxPooling2 (None, 2, 2, 128)         0         \n",
      "_________________________________________________________________\n",
      "flatten_3 (Flatten)          (None, 512)               0         \n",
      "_________________________________________________________________\n",
      "dense_3 (Dense)              (None, 8)                 4104      \n",
      "=================================================================\n",
      "Total params: 102,488\n",
      "Trainable params: 102,488\n",
      "Non-trainable params: 0\n",
      "_________________________________________________________________\n"
     ]
    }
   ],
   "source": [
    "model_simple.summary()"
   ]
  },
  {
   "cell_type": "code",
   "execution_count": 134,
   "id": "controlling-summer",
   "metadata": {},
   "outputs": [],
   "source": [
    "model_simple.compile(optimizer='adam', loss='binary_crossentropy')\n"
   ]
  },
  {
   "cell_type": "code",
   "execution_count": 145,
   "id": "atomic-prime",
   "metadata": {},
   "outputs": [
    {
     "name": "stdout",
     "output_type": "stream",
     "text": [
      "Epoch 1/10\n",
      "259/259 [==============================] - ETA: 0s - loss: 0.2925Training F1 Score\n",
      "\n",
      "(0.47319558012196505, [0.5100329439952082, 0.5102709139624888, 0.38260869565217387, 0.6533742331288344, 0.25654450261780104, 0.3044982698961938, 0.7575150300601203, 0.4107200516628996])\n",
      "Validation F1 Score\n",
      "\n",
      "(0.40840085216317823, [0.49528936742934054, 0.507343124165554, 0.2985074626865672, 0.6206896551724139, 0.13043478260869568, 0.18181818181818182, 0.6153846153846153, 0.41773962804005726])\n",
      "259/259 [==============================] - 58s 226ms/step - loss: 0.2925 - val_loss: 0.3415\n",
      "Epoch 2/10\n",
      "259/259 [==============================] - ETA: 0s - loss: 0.2879Training F1 Score\n",
      "\n",
      "(0.4790281002493466, [0.5359053331171989, 0.5558362809499747, 0.42585551330798477, 0.5911708253358925, 0.26063829787234044, 0.2692307692307692, 0.7414104882459313, 0.4521772939346812])\n",
      "Validation F1 Score\n",
      "\n",
      "(0.35902340695269996, [0.514450867052023, 0.5140324963072378, 0.23076923076923078, 0.46808510638297873, 0.043478260869565216, 0.15384615384615385, 0.5230769230769231, 0.4244482173174873])\n",
      "259/259 [==============================] - 59s 229ms/step - loss: 0.2879 - val_loss: 0.3366\n",
      "Epoch 3/10\n",
      "259/259 [==============================] - ETA: 0s - loss: 0.2809Training F1 Score\n",
      "\n",
      "(0.4933007640511564, [0.5732718894009217, 0.5967375593640306, 0.4562962962962963, 0.7145085803432137, 0.281767955801105, 0.04848484848484848, 0.7974683544303797, 0.47787062828845556])\n",
      "Validation F1 Score\n",
      "\n",
      "(0.38004348001410104, [0.5106382978723405, 0.5314183123877917, 0.26666666666666666, 0.6440677966101696, 0.13333333333333333, 0, 0.6, 0.3542234332425069])\n",
      "259/259 [==============================] - 59s 228ms/step - loss: 0.2809 - val_loss: 0.3361\n",
      "Epoch 4/10\n",
      "259/259 [==============================] - ETA: 0s - loss: 0.2768Training F1 Score\n",
      "\n",
      "(0.5265322182262677, [0.5487423968436627, 0.5952469365020423, 0.48966613672496023, 0.7345679012345678, 0.25925925925925924, 0.3333333333333333, 0.7236180904522613, 0.527823691460055])\n",
      "Validation F1 Score\n",
      "\n",
      "(0.38423985459538024, [0.5022288261515602, 0.531810766721044, 0.2686567164179104, 0.6333333333333334, 0.05128205128205128, 0.08333333333333333, 0.5937499999999999, 0.40952380952380946])\n",
      "259/259 [==============================] - 59s 228ms/step - loss: 0.2768 - val_loss: 0.3434\n",
      "Epoch 5/10\n",
      "259/259 [==============================] - ETA: 0s - loss: 0.2735Training F1 Score\n",
      "\n",
      "(0.521180914872124, [0.5661865569272977, 0.622712341623651, 0.46543778801843316, 0.7200000000000001, 0.2981651376146789, 0.2561576354679803, 0.8095238095238095, 0.43126404980114125])\n",
      "Validation F1 Score\n",
      "\n",
      "(0.35818685097312764, [0.49848024316109424, 0.48373983739837395, 0.20930232558139536, 0.6153846153846154, 0.041666666666666664, 0, 0.5833333333333334, 0.433587786259542])\n",
      "259/259 [==============================] - 60s 233ms/step - loss: 0.2735 - val_loss: 0.3474\n",
      "Epoch 6/10\n",
      "259/259 [==============================] - ETA: 0s - loss: 0.2631Training F1 Score\n",
      "\n",
      "(0.5665765700614804, [0.6496917716429912, 0.6023511849225601, 0.563922942206655, 0.7474048442906575, 0.32857142857142857, 0.28708133971291866, 0.8380566801619435, 0.5155323689826892])\n",
      "Validation F1 Score\n",
      "\n",
      "(0.3492361546972119, [0.4233576642335766, 0.5252854812398042, 0.12903225806451615, 0.6415094339622641, 0.10909090909090909, 0, 0.5818181818181818, 0.3837953091684435])\n",
      "259/259 [==============================] - 59s 228ms/step - loss: 0.2631 - val_loss: 0.3567\n",
      "Epoch 7/10\n",
      "259/259 [==============================] - ETA: 0s - loss: 0.2591Training F1 Score\n",
      "\n",
      "(0.6023133195628069, [0.6816069964471166, 0.632436837815811, 0.5806451612903226, 0.7544910179640719, 0.3132530120481928, 0.430493273542601, 0.8680851063829788, 0.5574951510113605])\n",
      "Validation F1 Score\n",
      "\n",
      "(0.35657274222413765, [0.46568627450980393, 0.5412186379928315, 0.11320754716981134, 0.6129032258064516, 0.052631578947368425, 0.08, 0.6, 0.3869346733668342])\n",
      "259/259 [==============================] - 60s 232ms/step - loss: 0.2591 - val_loss: 0.3572\n",
      "Epoch 8/10\n",
      "259/259 [==============================] - ETA: 0s - loss: 0.2536Training F1 Score\n",
      "\n",
      "(0.6123549219713117, [0.6668176670441676, 0.6726850657725044, 0.5737704918032787, 0.7427701674277017, 0.3798882681564246, 0.4666666666666667, 0.8228346456692913, 0.5734064032304587])\n",
      "Validation F1 Score\n",
      "\n",
      "(0.3479908774165571, [0.48221343873517786, 0.4845605700712589, 0.0851063829787234, 0.59375, 0.05, 0.07142857142857142, 0.6101694915254238, 0.4066985645933014])\n",
      "259/259 [==============================] - 62s 240ms/step - loss: 0.2536 - val_loss: 0.3520\n",
      "Epoch 9/10\n",
      "259/259 [==============================] - ETA: 0s - loss: 0.2452Training F1 Score\n",
      "\n",
      "(0.6140058821504708, [0.6639383726528647, 0.6618346545866365, 0.5545851528384279, 0.76056338028169, 0.44714038128249567, 0.4310344827586207, 0.8044280442804428, 0.5885225885225885])\n",
      "Validation F1 Score\n",
      "\n",
      "(0.33563995288604936, [0.4444444444444444, 0.4949698189134809, 0.12765957446808512, 0.5573770491803278, 0.03571428571428572, 0.14285714285714285, 0.5862068965517241, 0.2958904109589041])\n",
      "259/259 [==============================] - 64s 249ms/step - loss: 0.2452 - val_loss: 0.3849\n",
      "Epoch 10/10\n",
      "259/259 [==============================] - ETA: 0s - loss: 0.2362Training F1 Score\n",
      "\n",
      "(0.6605992089514071, [0.6905686229732817, 0.6997542997542998, 0.6632653061224489, 0.7874251497005987, 0.4717948717948718, 0.4789915966386554, 0.879492600422833, 0.6135012242042672])\n",
      "Validation F1 Score\n",
      "\n",
      "(0.33755584808709804, [0.472, 0.46428571428571425, 0.21428571428571427, 0.59375, 0, 0.07407407407407407, 0.6, 0.282051282051282])\n",
      "259/259 [==============================] - 63s 242ms/step - loss: 0.2362 - val_loss: 0.3656\n"
     ]
    },
    {
     "data": {
      "text/plain": [
       "<tensorflow.python.keras.callbacks.History at 0x1edd731dd90>"
      ]
     },
     "execution_count": 145,
     "metadata": {},
     "output_type": "execute_result"
    }
   ],
   "source": [
    "model_simple.fit(X_train, y_train,\n",
    "                        epochs=10,\n",
    "                        verbose=True,\n",
    "                        validation_data=(X_cv, y_cv),\n",
    "                        batch_size=20, callbacks=[testmodelcb])"
   ]
  },
  {
   "cell_type": "code",
   "execution_count": 92,
   "id": "pregnant-mexico",
   "metadata": {},
   "outputs": [],
   "source": [
    "y_pred_simple = model_simple.predict(X_train)"
   ]
  },
  {
   "cell_type": "code",
   "execution_count": 128,
   "id": "latest-truck",
   "metadata": {},
   "outputs": [
    {
     "data": {
      "text/plain": [
       "0.20566406249999997"
      ]
     },
     "execution_count": 128,
     "metadata": {},
     "output_type": "execute_result"
    }
   ],
   "source": [
    "find_threshold(y_train, y_pred_simple)[0]\n",
    "#threshold_func(.2, y_train, y_pred_simple)"
   ]
  },
  {
   "cell_type": "code",
   "execution_count": 172,
   "id": "entire-amateur",
   "metadata": {},
   "outputs": [],
   "source": [
    "model.add(Conv2D(8, kernel_size=3, padding='same', activation=\"relu\", input_shape=SHAPE))\n",
    "model.add(MaxPooling2D(pool_size=(4,4), strides=(1,1)))\n",
    "\n",
    "model.add(Conv2D(16, kernel_size=3, padding='same', activation=\"relu\"))\n",
    "model.add(MaxPooling2D(pool_size=(4,4), strides=(1,1)))\n",
    "\n",
    "model.add(Conv2D(32, kernel_size=3, padding='same', activation=\"relu\"))\n",
    "model.add(MaxPooling2D(pool_size=(4,4), strides=(1,1)))\n",
    "\n",
    "model.add(Conv2D(64, kernel_size=3, padding='same', activation=\"relu\"))\n",
    "model.add(MaxPooling2D(pool_size=(4,4), strides=(1,1)))\n",
    "\n",
    "model.add(Conv2D(128, kernel_size=3, padding='same', activation=\"relu\"))\n",
    "model.add(MaxPooling2D(pool_size=(4,4), strides=(2,2)))\n",
    "\n",
    "model.add(Conv2D(256, kernel_size=3, padding='same', activation=\"relu\"))\n",
    "model.add(MaxPooling2D(pool_size=(4,4), strides=(2,2)))\n",
    "\n",
    "#model.add(Conv2D(256, kernel_size=3, padding='same', activation=\"relu\"))\n",
    "#model.add(MaxPooling2D(pool_size=(4,4), strides=(2,2)))\n",
    "\n",
    "\n",
    "\n",
    "\n",
    "model.add(Flatten())\n",
    "model.add(Dense(8, activation='sigmoid'))"
   ]
  },
  {
   "cell_type": "code",
   "execution_count": 173,
   "id": "polyphonic-ownership",
   "metadata": {},
   "outputs": [
    {
     "name": "stdout",
     "output_type": "stream",
     "text": [
      "Model: \"sequential_12\"\n",
      "_________________________________________________________________\n",
      "Layer (type)                 Output Shape              Param #   \n",
      "=================================================================\n",
      "conv2d_62 (Conv2D)           (None, 75, 75, 8)         224       \n",
      "_________________________________________________________________\n",
      "max_pooling2d_55 (MaxPooling (None, 72, 72, 8)         0         \n",
      "_________________________________________________________________\n",
      "conv2d_63 (Conv2D)           (None, 72, 72, 16)        1168      \n",
      "_________________________________________________________________\n",
      "max_pooling2d_56 (MaxPooling (None, 69, 69, 16)        0         \n",
      "_________________________________________________________________\n",
      "conv2d_64 (Conv2D)           (None, 69, 69, 32)        4640      \n",
      "_________________________________________________________________\n",
      "max_pooling2d_57 (MaxPooling (None, 66, 66, 32)        0         \n",
      "_________________________________________________________________\n",
      "conv2d_65 (Conv2D)           (None, 66, 66, 64)        18496     \n",
      "_________________________________________________________________\n",
      "max_pooling2d_58 (MaxPooling (None, 63, 63, 64)        0         \n",
      "_________________________________________________________________\n",
      "conv2d_66 (Conv2D)           (None, 63, 63, 128)       73856     \n",
      "_________________________________________________________________\n",
      "max_pooling2d_59 (MaxPooling (None, 30, 30, 128)       0         \n",
      "_________________________________________________________________\n",
      "conv2d_67 (Conv2D)           (None, 30, 30, 256)       295168    \n",
      "_________________________________________________________________\n",
      "max_pooling2d_60 (MaxPooling (None, 14, 14, 256)       0         \n",
      "_________________________________________________________________\n",
      "flatten_10 (Flatten)         (None, 50176)             0         \n",
      "_________________________________________________________________\n",
      "dense_10 (Dense)             (None, 8)                 401416    \n",
      "=================================================================\n",
      "Total params: 794,968\n",
      "Trainable params: 794,968\n",
      "Non-trainable params: 0\n",
      "_________________________________________________________________\n"
     ]
    }
   ],
   "source": [
    "model.summary()"
   ]
  },
  {
   "cell_type": "code",
   "execution_count": 174,
   "id": "defensive-strength",
   "metadata": {},
   "outputs": [
    {
     "name": "stdout",
     "output_type": "stream",
     "text": [
      "Epoch 1/10\n",
      "259/259 [==============================] - 252s 974ms/step - loss: 0.5293 - val_loss: 0.3584\n",
      "Epoch 2/10\n",
      "259/259 [==============================] - 256s 988ms/step - loss: 0.3453 - val_loss: 0.3510\n",
      "Epoch 3/10\n",
      "259/259 [==============================] - 247s 954ms/step - loss: 0.3365 - val_loss: 0.3404\n",
      "Epoch 4/10\n",
      "259/259 [==============================] - 249s 961ms/step - loss: 0.3301 - val_loss: 0.3369\n",
      "Epoch 5/10\n",
      "259/259 [==============================] - 246s 951ms/step - loss: 0.3267 - val_loss: 0.3346\n",
      "Epoch 6/10\n",
      "259/259 [==============================] - 245s 947ms/step - loss: 0.3243 - val_loss: 0.3412\n",
      "Epoch 7/10\n",
      "259/259 [==============================] - 246s 952ms/step - loss: 0.3204 - val_loss: 0.3284\n",
      "Epoch 8/10\n",
      "259/259 [==============================] - 247s 954ms/step - loss: 0.3175 - val_loss: 0.3250\n",
      "Epoch 9/10\n",
      "259/259 [==============================] - 245s 946ms/step - loss: 0.3136 - val_loss: 0.3259\n",
      "Epoch 10/10\n",
      "259/259 [==============================] - 245s 947ms/step - loss: 0.3132 - val_loss: 0.3258\n"
     ]
    },
    {
     "data": {
      "text/plain": [
       "<tensorflow.python.keras.callbacks.History at 0x2af093eca90>"
      ]
     },
     "execution_count": 174,
     "metadata": {},
     "output_type": "execute_result"
    }
   ],
   "source": [
    "\n",
    "model.compile(optimizer='adam', loss='binary_crossentropy')\n",
    "model.fit(X_train, y_train,\n",
    "                        epochs=10,\n",
    "                        verbose=True,\n",
    "                        validation_data=(X_cv, y_cv),\n",
    "                        batch_size=20, callbacks=[])"
   ]
  },
  {
   "cell_type": "code",
   "execution_count": 175,
   "id": "still-official",
   "metadata": {},
   "outputs": [],
   "source": [
    "y_pred_cv = model.predict(X_cv)"
   ]
  },
  {
   "cell_type": "code",
   "execution_count": 25,
   "id": "macro-definition",
   "metadata": {},
   "outputs": [],
   "source": [
    "#F1 Score = 2 * (precision * recall) / (precision + recall)\n",
    "# precision = tp/(tp+fp) recall = tp/(tp+fn)\n",
    "def f1(ar, ar_pred):\n",
    "    tp = len(ar[(ar==ar_pred) & (ar_pred==1)])\n",
    "    fp = len(ar[(ar!=ar_pred) & (ar==1)])\n",
    "    fn = len(ar[(ar!=ar_pred) & (ar_pred==1)])\n",
    "    print(tp,fn,fp)\n",
    "    if ((tp+fp) == 0) or ((tp+fn) == 0): return 0\n",
    "    precision = tp/(tp+fp)\n",
    "    recall = tp/(tp+fn)\n",
    "    if (precision+recall) == 0: return 0\n",
    "    return 2*(precision*recall)/(precision+recall)\n",
    "\n",
    "def multilabel_f1score(y, y_pred):\n",
    "    scores=[]\n",
    "    for col_ix in range(y.shape[1]):\n",
    "        scores.append(f1(y[:, col_ix], y_pred[:, col_ix]))\n",
    "    return np.mean(scores), scores\n",
    "        "
   ]
  },
  {
   "cell_type": "code",
   "execution_count": 177,
   "id": "square-glance",
   "metadata": {},
   "outputs": [],
   "source": [
    "y_pred = model.predict(X_train)"
   ]
  },
  {
   "cell_type": "code",
   "execution_count": 26,
   "id": "champion-destiny",
   "metadata": {},
   "outputs": [],
   "source": [
    "def apply_thresh(y_pred, threshold):\n",
    "    out = y_pred.copy()\n",
    "    out[out>=threshold] = 1\n",
    "    out[out<threshold] = 0\n",
    "    return out"
   ]
  },
  {
   "cell_type": "code",
   "execution_count": 187,
   "id": "forbidden-holmes",
   "metadata": {},
   "outputs": [
    {
     "name": "stdout",
     "output_type": "stream",
     "text": [
      "1625 2863 84\n",
      "1611 2638 108\n",
      "66 63 247\n",
      "241 208 89\n",
      "16 22 234\n",
      "14 10 147\n",
      "162 110 87\n",
      "1146 3000 132\n"
     ]
    },
    {
     "data": {
      "text/plain": [
       "(0.41107762660487934,\n",
       " [0.5244473132160723,\n",
       "  0.5398793565683647,\n",
       "  0.2986425339366516,\n",
       "  0.6187419768934532,\n",
       "  0.1111111111111111,\n",
       "  0.15135135135135133,\n",
       "  0.6218809980806143,\n",
       "  0.4225663716814159])"
      ]
     },
     "execution_count": 187,
     "metadata": {},
     "output_type": "execute_result"
    }
   ],
   "source": [
    "multilabel_f1score(y_train, apply_thresh(y_pred,.19))"
   ]
  },
  {
   "cell_type": "code",
   "execution_count": 188,
   "id": "proved-reviewer",
   "metadata": {},
   "outputs": [
    {
     "name": "stdout",
     "output_type": "stream",
     "text": [
      "172 333 12\n",
      "174 301 17\n",
      "6 8 32\n",
      "23 21 11\n",
      "0 3 33\n",
      "1 4 18\n",
      "14 12 14\n",
      "124 320 30\n"
     ]
    },
    {
     "data": {
      "text/plain": [
       "(0.3573596530682257,\n",
       " [0.4992743105950654,\n",
       "  0.5225225225225225,\n",
       "  0.23076923076923078,\n",
       "  0.5897435897435898,\n",
       "  0,\n",
       "  0.08333333333333333,\n",
       "  0.5185185185185186,\n",
       "  0.4147157190635451])"
      ]
     },
     "execution_count": 188,
     "metadata": {},
     "output_type": "execute_result"
    }
   ],
   "source": [
    "multilabel_f1score(y_cv, apply_thresh(y_pred_cv, .19))"
   ]
  },
  {
   "cell_type": "code",
   "execution_count": 141,
   "id": "complex-haiti",
   "metadata": {},
   "outputs": [
    {
     "data": {
      "text/plain": [
       "0.22676224125"
      ]
     },
     "execution_count": 141,
     "metadata": {},
     "output_type": "execute_result"
    }
   ],
   "source": [
    "np.mean([0.        , 0.22488314, 0.32800321, 0.01568627, 0.03556188,\n",
    "       0.5681946 , 0.62132543, 0.0204434 ])"
   ]
  },
  {
   "cell_type": "markdown",
   "id": "fifty-worcester",
   "metadata": {},
   "source": [
    "# Pre trained model"
   ]
  },
  {
   "cell_type": "code",
   "execution_count": 66,
   "id": "destroyed-basement",
   "metadata": {},
   "outputs": [],
   "source": [
    "X_train_resnet = preprocess_input(X_train)\n",
    "X_cv_resnet = preprocess_input(X_cv)"
   ]
  },
  {
   "cell_type": "code",
   "execution_count": 67,
   "id": "extreme-ridge",
   "metadata": {},
   "outputs": [],
   "source": [
    "model2 = Sequential()"
   ]
  },
  {
   "cell_type": "code",
   "execution_count": 68,
   "id": "yellow-maine",
   "metadata": {},
   "outputs": [],
   "source": [
    "model2.add(ResNet50(include_top=False, weights='imagenet', input_shape=(150,150,3)))"
   ]
  },
  {
   "cell_type": "code",
   "execution_count": 69,
   "id": "prescribed-democracy",
   "metadata": {},
   "outputs": [],
   "source": [
    "model2.add(Flatten())"
   ]
  },
  {
   "cell_type": "code",
   "execution_count": 70,
   "id": "accepted-muscle",
   "metadata": {},
   "outputs": [],
   "source": [
    "model2.add(Dense(8, activation='sigmoid'))"
   ]
  },
  {
   "cell_type": "code",
   "execution_count": 71,
   "id": "consecutive-attendance",
   "metadata": {},
   "outputs": [
    {
     "name": "stdout",
     "output_type": "stream",
     "text": [
      "Model: \"sequential_2\"\n",
      "_________________________________________________________________\n",
      "Layer (type)                 Output Shape              Param #   \n",
      "=================================================================\n",
      "resnet50 (Functional)        (None, 5, 5, 2048)        23587712  \n",
      "_________________________________________________________________\n",
      "flatten_2 (Flatten)          (None, 51200)             0         \n",
      "_________________________________________________________________\n",
      "dense_2 (Dense)              (None, 8)                 409608    \n",
      "=================================================================\n",
      "Total params: 23,997,320\n",
      "Trainable params: 23,944,200\n",
      "Non-trainable params: 53,120\n",
      "_________________________________________________________________\n"
     ]
    }
   ],
   "source": [
    "model2.summary()"
   ]
  },
  {
   "cell_type": "code",
   "execution_count": 72,
   "id": "direct-eagle",
   "metadata": {},
   "outputs": [],
   "source": [
    "model2.compile(optimizer='adam', loss='binary_crossentropy')"
   ]
  },
  {
   "cell_type": "code",
   "execution_count": 73,
   "id": "unexpected-bulgarian",
   "metadata": {},
   "outputs": [
    {
     "name": "stdout",
     "output_type": "stream",
     "text": [
      "Epoch 1/10\n",
      "259/259 [==============================] - 1222s 5s/step - loss: 0.4643 - val_loss: 0.3821\n",
      "Epoch 2/10\n",
      "259/259 [==============================] - 1236s 5s/step - loss: 0.3274 - val_loss: 0.4541\n",
      "Epoch 3/10\n",
      "259/259 [==============================] - 1244s 5s/step - loss: 0.3136 - val_loss: 0.4028\n",
      "Epoch 4/10\n",
      "259/259 [==============================] - 1235s 5s/step - loss: 0.3059 - val_loss: 0.3641\n",
      "Epoch 5/10\n",
      "259/259 [==============================] - 1255s 5s/step - loss: 0.3021 - val_loss: 0.3895\n",
      "Epoch 6/10\n",
      "259/259 [==============================] - 1244s 5s/step - loss: 0.2852 - val_loss: 0.3559\n",
      "Epoch 7/10\n",
      "259/259 [==============================] - 1235s 5s/step - loss: 0.2728 - val_loss: 0.3425\n",
      "Epoch 8/10\n",
      "259/259 [==============================] - 1233s 5s/step - loss: 0.2554 - val_loss: 0.3800\n",
      "Epoch 9/10\n",
      "259/259 [==============================] - 1236s 5s/step - loss: 0.2370 - val_loss: 0.3887\n",
      "Epoch 10/10\n",
      "259/259 [==============================] - 1221s 5s/step - loss: 0.2181 - val_loss: 0.4148\n"
     ]
    },
    {
     "data": {
      "text/plain": [
       "<tensorflow.python.keras.callbacks.History at 0x1ed90e8a4c0>"
      ]
     },
     "execution_count": 73,
     "metadata": {},
     "output_type": "execute_result"
    }
   ],
   "source": [
    "model2.fit(X_train_resnet, y_train,\n",
    "                        epochs=10,\n",
    "                        verbose=True,\n",
    "                        validation_data=(X_cv_resnet, y_cv),\n",
    "                        batch_size=20, callbacks=[])"
   ]
  },
  {
   "cell_type": "code",
   "execution_count": 74,
   "id": "amazing-providence",
   "metadata": {},
   "outputs": [],
   "source": [
    "y_resnet_pred = model2.predict(X_train_resnet)"
   ]
  },
  {
   "cell_type": "code",
   "execution_count": 75,
   "id": "younger-darkness",
   "metadata": {},
   "outputs": [],
   "source": [
    "y_resnet_pred_cv = model2.predict(X_cv_resnet)"
   ]
  },
  {
   "cell_type": "code",
   "execution_count": 83,
   "id": "nearby-accuracy",
   "metadata": {},
   "outputs": [
    {
     "name": "stdout",
     "output_type": "stream",
     "text": [
      "1504 1244 205\n",
      "1570 1567 149\n",
      "120 24 193\n",
      "308 811 22\n",
      "103 50 147\n",
      "75 87 86\n",
      "160 3 89\n",
      "882 771 396\n"
     ]
    },
    {
     "data": {
      "text/plain": [
       "(0.5782381236548413,\n",
       " [0.6748934260713485,\n",
       "  0.6466227347611203,\n",
       "  0.5251641137855579,\n",
       "  0.42512077294685985,\n",
       "  0.511166253101737,\n",
       "  0.4643962848297214,\n",
       "  0.7766990291262135,\n",
       "  0.601842374616172])"
      ]
     },
     "execution_count": 83,
     "metadata": {},
     "output_type": "execute_result"
    }
   ],
   "source": [
    "multilabel_f1score(y_train, apply_thresh(y_resnet_pred,.125))"
   ]
  },
  {
   "cell_type": "code",
   "execution_count": 84,
   "id": "operating-anchor",
   "metadata": {},
   "outputs": [
    {
     "name": "stdout",
     "output_type": "stream",
     "text": [
      "131 209 53\n",
      "145 225 46\n",
      "3 6 35\n",
      "26 90 8\n",
      "5 12 28\n",
      "3 10 16\n",
      "14 3 14\n",
      "47 127 107\n"
     ]
    },
    {
     "data": {
      "text/plain": [
       "(0.34844598444455543,\n",
       " [0.5,\n",
       "  0.5169340463458111,\n",
       "  0.12765957446808512,\n",
       "  0.3466666666666667,\n",
       "  0.19999999999999998,\n",
       "  0.18749999999999997,\n",
       "  0.6222222222222222,\n",
       "  0.2865853658536585])"
      ]
     },
     "execution_count": 84,
     "metadata": {},
     "output_type": "execute_result"
    }
   ],
   "source": [
    "multilabel_f1score(y_cv, apply_thresh(y_resnet_pred_cv,.125))"
   ]
  },
  {
   "cell_type": "code",
   "execution_count": null,
   "id": "clear-student",
   "metadata": {},
   "outputs": [],
   "source": [
    "(0.3573596530682257,\n",
    " [0.4992743105950654,\n",
    "  0.5225225225225225,\n",
    "  0.23076923076923078,\n",
    "  0.5897435897435898,\n",
    "  0,\n",
    "  0.08333333333333333,\n",
    "  0.5185185185185186,\n",
    "  0.4147157190635451])"
   ]
  }
 ],
 "metadata": {
  "kernelspec": {
   "display_name": "Python 3",
   "language": "python",
   "name": "python3"
  },
  "language_info": {
   "codemirror_mode": {
    "name": "ipython",
    "version": 3
   },
   "file_extension": ".py",
   "mimetype": "text/x-python",
   "name": "python",
   "nbconvert_exporter": "python",
   "pygments_lexer": "ipython3",
   "version": "3.8.8"
  }
 },
 "nbformat": 4,
 "nbformat_minor": 5
}
