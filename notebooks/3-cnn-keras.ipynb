{
 "cells": [
  {
   "cell_type": "markdown",
   "id": "wound-cooking",
   "metadata": {},
   "source": [
    "#### "
   ]
  },
  {
   "cell_type": "code",
   "execution_count": 3,
   "id": "exterior-arrangement",
   "metadata": {},
   "outputs": [],
   "source": [
    "import pandas as pd\n",
    "import numpy as np\n",
    "import matplotlib.pyplot as plt\n",
    "import os\n",
    "import seaborn as sns\n",
    "from functools import reduce\n",
    "import cv2 \n",
    "import math\n",
    "import pickle\n",
    "from mpl_toolkits.axes_grid1 import ImageGrid\n",
    "import matplotlib.pyplot as plt\n",
    "from sklearn.model_selection import train_test_split\n",
    "\n",
    "from sklearn.metrics import precision_recall_fscore_support\n",
    "\n",
    "from keras.models import Sequential\n",
    "from keras.layers import Dense, Conv2D, Flatten, MaxPooling2D\n",
    "from keras.applications import ResNet50\n",
    "from keras.applications.resnet import preprocess_input\n",
    "from keras.callbacks import LambdaCallback\n",
    "\n",
    "from scipy.optimize import minimize"
   ]
  },
  {
   "cell_type": "code",
   "execution_count": 4,
   "id": "printable-syndication",
   "metadata": {},
   "outputs": [
    {
     "name": "stdout",
     "output_type": "stream",
     "text": [
      "C:\\Users\\smcko\\Documents\\programming\\ocdisrecog-analytics\n"
     ]
    }
   ],
   "source": [
    "if os.path.split(os.getcwd())[-1] == 'notebooks': os.chdir(os.path.split(os.getcwd())[-2])\n",
    "print(os.getcwd())"
   ]
  },
  {
   "cell_type": "code",
   "execution_count": 5,
   "id": "curious-anger",
   "metadata": {},
   "outputs": [],
   "source": [
    "header, images = pickle.load(open('data/preprocessed_array_150x150.pkl','rb'))"
   ]
  },
  {
   "cell_type": "code",
   "execution_count": 6,
   "id": "enormous-cartridge",
   "metadata": {},
   "outputs": [],
   "source": [
    "SHAPE = (150,150,3)"
   ]
  },
  {
   "cell_type": "code",
   "execution_count": 7,
   "id": "dried-forward",
   "metadata": {},
   "outputs": [],
   "source": [
    "Y = header[:,7:15].astype(int)"
   ]
  },
  {
   "cell_type": "code",
   "execution_count": 8,
   "id": "arbitrary-accreditation",
   "metadata": {},
   "outputs": [],
   "source": [
    "X_train, X_test, y_train, y_test, ixes_train, ixes_test = train_test_split(images, Y, np.arange(images.shape[0]),\n",
    "                                                    test_size=.1, stratify=header[:,16], random_state=0)"
   ]
  },
  {
   "cell_type": "code",
   "execution_count": 9,
   "id": "prostate-denver",
   "metadata": {},
   "outputs": [],
   "source": [
    "X_train, X_cv, y_train, y_cv = train_test_split(X_train, y_train, test_size=.1, stratify=header[ixes_train,16], random_state=0)"
   ]
  },
  {
   "cell_type": "code",
   "execution_count": 10,
   "id": "likely-saskatchewan",
   "metadata": {},
   "outputs": [],
   "source": [
    "X_train = X_train.reshape(X_train.shape[0], 150, 150, 3)\n",
    "X_cv = X_cv.reshape(X_cv.shape[0], 150, 150, 3)"
   ]
  },
  {
   "cell_type": "markdown",
   "id": "material-calvin",
   "metadata": {},
   "source": [
    "## Model - Self Designed"
   ]
  },
  {
   "cell_type": "markdown",
   "id": "joined-quilt",
   "metadata": {},
   "source": [
    "## Functions"
   ]
  },
  {
   "cell_type": "code",
   "execution_count": 39,
   "id": "painful-patch",
   "metadata": {},
   "outputs": [],
   "source": [
    "def f1_callback(X_train, y_train, X_cv, y_cv, model):\n",
    "    def testmodel(epoch, logs):\n",
    "        #predx, predy = next(data_iterator)\n",
    "        print(epoch)\n",
    "        print(logs.keys())\n",
    "        \n",
    "        y_pred = model.predict(\n",
    "            X_train, batch_size=50\n",
    "        )\n",
    "\n",
    "        y_pred_cv = model.predict(X_cv, batch_size=50)\n",
    "\n",
    "        threshold = find_threshold(y_train, y_pred)\n",
    "        \n",
    "        \n",
    "\n",
    "        print(\"\\nTraining F1 Score\\n\")\n",
    "        print(multilabel_f1score(y_train, apply_thresh(y_pred, threshold)))\n",
    "        print(\"\\nValidation F1 Score\\n\")\n",
    "        print(multilabel_f1score(y_cv, apply_thresh(y_pred_cv, threshold)))\n",
    "    return testmodel\n",
    "        \n",
    "        \n",
    "        \n",
    "\n",
    "def f1(ar, ar_pred):\n",
    "    tp = len(ar[(ar==ar_pred) & (ar_pred==1)])\n",
    "    fp = len(ar[(ar!=ar_pred) & (ar==1)])\n",
    "    fn = len(ar[(ar!=ar_pred) & (ar_pred==1)])\n",
    "   # print(tp,fn,fp)\n",
    "    if ((tp+fp) == 0) or ((tp+fn) == 0): return 0\n",
    "    precision = tp/(tp+fp)\n",
    "    recall = tp/(tp+fn)\n",
    "    if (precision+recall) == 0: return 0\n",
    "    return 2*(precision*recall)/(precision+recall)\n",
    "\n",
    "def multilabel_f1score(y, y_pred):\n",
    "    scores=[]\n",
    "    for col_ix in range(y.shape[1]):\n",
    "        scores.append(f1(y[:, col_ix], y_pred[:, col_ix]))\n",
    "    return np.mean(scores), scores\n",
    "\n",
    "def apply_thresh(y_pred, threshold):\n",
    "    out = y_pred.copy()\n",
    "    out[out>=threshold] = 1\n",
    "    out[out<threshold] = 0\n",
    "    return out\n",
    "\n",
    "\n",
    "def threshold_func(x, y, y_pred):\n",
    "    score, _ = multilabel_f1score(y, apply_thresh(y_pred, x))\n",
    "    return 1-score\n",
    "\n",
    "def find_threshold(y, y_pred):\n",
    "    threshold = minimize(threshold_func, .25, args=(y, y_pred), method='Nelder-Mead')\n",
    "    return threshold.x"
   ]
  },
  {
   "cell_type": "markdown",
   "id": "fancy-scroll",
   "metadata": {},
   "source": [
    "## Simple model"
   ]
  },
  {
   "cell_type": "code",
   "execution_count": 40,
   "id": "taken-spirit",
   "metadata": {},
   "outputs": [],
   "source": [
    "model_simple = Sequential()"
   ]
  },
  {
   "cell_type": "code",
   "execution_count": 41,
   "id": "jewish-reservoir",
   "metadata": {},
   "outputs": [],
   "source": [
    "model_simple.add(Conv2D(8, kernel_size=5, padding='same', activation=\"relu\", input_shape=SHAPE))\n",
    "model_simple.add(MaxPooling2D(pool_size=(4,4), strides=(2,2)))\n",
    "\n",
    "model_simple.add(Conv2D(16, kernel_size=5, padding='same', activation=\"relu\"))\n",
    "model_simple.add(MaxPooling2D(pool_size=(4,4), strides=(2,2)))\n",
    "\n",
    "model_simple.add(Conv2D(32, kernel_size=5, padding='same', activation=\"relu\"))\n",
    "model_simple.add(MaxPooling2D(pool_size=(4,4), strides=(2,2)))\n",
    "\n",
    "model_simple.add(Conv2D(64, kernel_size=5, padding='same', activation=\"relu\"))\n",
    "model_simple.add(MaxPooling2D(pool_size=(4,4), strides=(2,2)))\n",
    "\n",
    "model_simple.add(Conv2D(128, kernel_size=5, padding='same', activation=\"relu\"))\n",
    "model_simple.add(MaxPooling2D(pool_size=(4,4), strides=(2,2)))\n",
    "\n",
    "\n",
    "model_simple.add(Flatten())\n",
    "model_simple.add(Dense(8, activation='sigmoid'))"
   ]
  },
  {
   "cell_type": "code",
   "execution_count": 42,
   "id": "stretch-omaha",
   "metadata": {},
   "outputs": [
    {
     "name": "stdout",
     "output_type": "stream",
     "text": [
      "Model: \"sequential_3\"\n",
      "_________________________________________________________________\n",
      "Layer (type)                 Output Shape              Param #   \n",
      "=================================================================\n",
      "conv2d_21 (Conv2D)           (None, 150, 150, 8)       608       \n",
      "_________________________________________________________________\n",
      "max_pooling2d_15 (MaxPooling (None, 74, 74, 8)         0         \n",
      "_________________________________________________________________\n",
      "conv2d_22 (Conv2D)           (None, 74, 74, 16)        3216      \n",
      "_________________________________________________________________\n",
      "max_pooling2d_16 (MaxPooling (None, 36, 36, 16)        0         \n",
      "_________________________________________________________________\n",
      "conv2d_23 (Conv2D)           (None, 36, 36, 32)        12832     \n",
      "_________________________________________________________________\n",
      "max_pooling2d_17 (MaxPooling (None, 17, 17, 32)        0         \n",
      "_________________________________________________________________\n",
      "conv2d_24 (Conv2D)           (None, 17, 17, 64)        51264     \n",
      "_________________________________________________________________\n",
      "max_pooling2d_18 (MaxPooling (None, 7, 7, 64)          0         \n",
      "_________________________________________________________________\n",
      "conv2d_25 (Conv2D)           (None, 7, 7, 128)         204928    \n",
      "_________________________________________________________________\n",
      "max_pooling2d_19 (MaxPooling (None, 2, 2, 128)         0         \n",
      "_________________________________________________________________\n",
      "flatten_3 (Flatten)          (None, 512)               0         \n",
      "_________________________________________________________________\n",
      "dense_3 (Dense)              (None, 8)                 4104      \n",
      "=================================================================\n",
      "Total params: 276,952\n",
      "Trainable params: 276,952\n",
      "Non-trainable params: 0\n",
      "_________________________________________________________________\n"
     ]
    }
   ],
   "source": [
    "model_simple.summary()"
   ]
  },
  {
   "cell_type": "code",
   "execution_count": 43,
   "id": "narrow-excerpt",
   "metadata": {},
   "outputs": [],
   "source": [
    "model_simple.compile(optimizer='adam', loss='binary_crossentropy')\n"
   ]
  },
  {
   "cell_type": "code",
   "execution_count": 44,
   "id": "defined-lighter",
   "metadata": {},
   "outputs": [],
   "source": [
    "testmodelcb = LambdaCallback(on_epoch_end=f1_callback(X_train, y_train, X_cv, y_cv, model_simple))"
   ]
  },
  {
   "cell_type": "code",
   "execution_count": 46,
   "id": "conditional-western",
   "metadata": {},
   "outputs": [
    {
     "name": "stdout",
     "output_type": "stream",
     "text": [
      "Epoch 1/10\n",
      "259/259 [==============================] - ETA: 0s - loss: 0.31270\n",
      "dict_keys(['loss', 'val_loss'])\n",
      "\n",
      "Training F1 Score\n",
      "\n",
      "(0.38906174502960544, [0.5071301247771836, 0.5016067776803973, 0.3798449612403101, 0.6161290322580645, 0.18952618453865339, 0.10050251256281406, 0.4176285414480587, 0.4001258257313621])\n",
      "\n",
      "Validation F1 Score\n",
      "\n",
      "(0.3482330525276106, [0.4879356568364612, 0.5026315789473684, 0.2278481012658228, 0.5901639344262295, 0.04081632653061225, 0.09090909090909091, 0.42553191489361697, 0.4200278164116829])\n",
      "259/259 [==============================] - 97s 376ms/step - loss: 0.3127 - val_loss: 0.3336\n",
      "Epoch 2/10\n",
      "259/259 [==============================] - ETA: 0s - loss: 0.31091\n",
      "dict_keys(['loss', 'val_loss'])\n",
      "\n",
      "Training F1 Score\n",
      "\n",
      "(0.4219175757479685, [0.5292876845692033, 0.5544091882421647, 0.39279869067103107, 0.5930851063829786, 0.24746450304259637, 0, 0.6321626617375231, 0.4261327713382507])\n",
      "\n",
      "Validation F1 Score\n",
      "\n",
      "(0.38362749552094777, [0.5166908563134979, 0.5335689045936395, 0.2571428571428571, 0.5526315789473685, 0.1904761904761905, 0, 0.5964912280701754, 0.42201834862385323])\n",
      "259/259 [==============================] - 88s 339ms/step - loss: 0.3109 - val_loss: 0.3257\n",
      "Epoch 3/10\n",
      "259/259 [==============================] - ETA: 0s - loss: 0.30832\n",
      "dict_keys(['loss', 'val_loss'])\n",
      "\n",
      "Training F1 Score\n",
      "\n",
      "(0.3937961513946461, [0.4998537584088915, 0.5276663993584604, 0.3217877094972067, 0.4787430683918669, 0.125, 0.15609756097560976, 0.6307053941908715, 0.41051532033426186])\n",
      "\n",
      "Validation F1 Score\n",
      "\n",
      "(0.3614334988142932, [0.4861294583883751, 0.5151079136690648, 0.21153846153846154, 0.44444444444444453, 0.05555555555555555, 0.21428571428571427, 0.5531914893617021, 0.411214953271028])\n",
      "259/259 [==============================] - 87s 338ms/step - loss: 0.3083 - val_loss: 0.3420\n",
      "Epoch 4/10\n",
      "259/259 [==============================] - ETA: 0s - loss: 0.30583\n",
      "dict_keys(['loss', 'val_loss'])\n",
      "\n",
      "Training F1 Score\n",
      "\n",
      "(0.404698873425017, [0.5161290322580645, 0.5453917846047635, 0.4174863387978142, 0.5747126436781609, 0.031007751937984496, 0, 0.7180616740088107, 0.4348017621145375])\n",
      "\n",
      "Validation F1 Score\n",
      "\n",
      "(0.36199439653489285, [0.49523809523809526, 0.5446009389671361, 0.3, 0.5714285714285713, 0, 0, 0.5777777777777777, 0.4069097888675624])\n",
      "259/259 [==============================] - 87s 335ms/step - loss: 0.3058 - val_loss: 0.3358\n",
      "Epoch 5/10\n",
      "259/259 [==============================] - ETA: 0s - loss: 0.30124\n",
      "dict_keys(['loss', 'val_loss'])\n",
      "\n",
      "Training F1 Score\n",
      "\n",
      "(0.4435332654676891, [0.5573770491803279, 0.5518672199170125, 0.4372093023255814, 0.6127659574468086, 0.21943573667711602, 0.05988023952095809, 0.6803418803418803, 0.4293887383318278])\n",
      "\n",
      "Validation F1 Score\n",
      "\n",
      "(0.3796474200331842, [0.5145985401459854, 0.5233644859813085, 0.26229508196721313, 0.6111111111111113, 0.0930232558139535, 0, 0.6666666666666667, 0.366120218579235])\n",
      "259/259 [==============================] - 88s 341ms/step - loss: 0.3012 - val_loss: 0.3263\n",
      "Epoch 6/10\n",
      "259/259 [==============================] - ETA: 0s - loss: 0.29835\n",
      "dict_keys(['loss', 'val_loss'])\n",
      "\n",
      "Training F1 Score\n",
      "\n",
      "(0.4494694488878508, [0.534559289790742, 0.5078425569695176, 0.4533333333333333, 0.6483516483516484, 0.25787965616045844, 0.2201834862385321, 0.563265306122449, 0.4103403141361256])\n",
      "\n",
      "Validation F1 Score\n",
      "\n",
      "(0.37161071625872044, [0.5070422535211268, 0.504, 0.24615384615384617, 0.6176470588235294, 0.04, 0.07692307692307693, 0.5609756097560976, 0.4201438848920863])\n",
      "259/259 [==============================] - 88s 338ms/step - loss: 0.2983 - val_loss: 0.3333\n",
      "Epoch 7/10\n",
      "259/259 [==============================] - ETA: 0s - loss: 0.29526\n",
      "dict_keys(['loss', 'val_loss'])\n",
      "\n",
      "Training F1 Score\n",
      "\n",
      "(0.4685716642939328, [0.5519247219846022, 0.5680948040109388, 0.4451219512195122, 0.635593220338983, 0.2655367231638418, 0.04848484848484848, 0.7761194029850745, 0.4576976421636616])\n",
      "\n",
      "Validation F1 Score\n",
      "\n",
      "(0.4055154577968256, [0.5084226646248086, 0.5374592833876222, 0.34375, 0.6268656716417911, 0.10256410256410256, 0, 0.7169811320754718, 0.40808080808080816])\n",
      "259/259 [==============================] - 86s 330ms/step - loss: 0.2952 - val_loss: 0.3262\n",
      "Epoch 8/10\n",
      "259/259 [==============================] - ETA: 0s - loss: 0.29127\n",
      "dict_keys(['loss', 'val_loss'])\n",
      "\n",
      "Training F1 Score\n",
      "\n",
      "(0.4701235719783239, [0.5087928464977645, 0.5165603160133698, 0.4485049833887043, 0.6524633821571239, 0.3636363636363636, 0.2547169811320755, 0.6064139941690961, 0.4098997088320932])\n",
      "\n",
      "Validation F1 Score\n",
      "\n",
      "(0.36517797240039274, [0.4906666666666666, 0.5095367847411444, 0.18749999999999997, 0.64, 0.03225806451612904, 0.06896551724137931, 0.5675675675675675, 0.424929178470255])\n",
      "259/259 [==============================] - 88s 341ms/step - loss: 0.2912 - val_loss: 0.3359\n",
      "Epoch 9/10\n",
      "259/259 [==============================] - ETA: 0s - loss: 0.28848\n",
      "dict_keys(['loss', 'val_loss'])\n",
      "\n",
      "Training F1 Score\n",
      "\n",
      "(0.519090286552176, [0.585605905269633, 0.5849917838232609, 0.3875598086124401, 0.6951026856240127, 0.3652173913043479, 0.2857142857142857, 0.790224032586558, 0.4583063994828701])\n",
      "\n",
      "Validation F1 Score\n",
      "\n",
      "(0.3751748836723406, [0.5055350553505535, 0.5385878489326765, 0.044444444444444446, 0.6666666666666667, 0.1379310344827586, 0.07692307692307693, 0.6538461538461539, 0.3774647887323943])\n",
      "259/259 [==============================] - 87s 335ms/step - loss: 0.2884 - val_loss: 0.3332\n",
      "Epoch 10/10\n",
      "259/259 [==============================] - ETA: 0s - loss: 0.28289\n",
      "dict_keys(['loss', 'val_loss'])\n",
      "\n",
      "Training F1 Score\n",
      "\n",
      "(0.5443386200410261, [0.5868336025848142, 0.6076606795066004, 0.4965277777777778, 0.707236842105263, 0.4199134199134199, 0.2966507177033493, 0.7659574468085107, 0.4739284739284739])\n",
      "\n",
      "Validation F1 Score\n",
      "\n",
      "(0.3923580960484611, [0.5226860254083485, 0.51171875, 0.13559322033898305, 0.7142857142857143, 0.126984126984127, 0.07692307692307693, 0.6792452830188679, 0.3714285714285714])\n",
      "259/259 [==============================] - 87s 335ms/step - loss: 0.2828 - val_loss: 0.3357\n"
     ]
    },
    {
     "data": {
      "text/plain": [
       "<tensorflow.python.keras.callbacks.History at 0x2332e2462b0>"
      ]
     },
     "execution_count": 46,
     "metadata": {},
     "output_type": "execute_result"
    }
   ],
   "source": [
    "model_simple.fit(X_train, y_train,\n",
    "                        epochs=10,\n",
    "                        verbose=True,\n",
    "                        validation_data=(X_cv, y_cv),\n",
    "                        batch_size=20, callbacks=[testmodelcb])"
   ]
  },
  {
   "cell_type": "code",
   "execution_count": null,
   "id": "painted-fence",
   "metadata": {},
   "outputs": [],
   "source": []
  },
  {
   "cell_type": "code",
   "execution_count": 92,
   "id": "senior-choir",
   "metadata": {},
   "outputs": [],
   "source": [
    "y_pred_simple = model_simple.predict(X_train)"
   ]
  },
  {
   "cell_type": "code",
   "execution_count": 128,
   "id": "boolean-recommendation",
   "metadata": {},
   "outputs": [
    {
     "data": {
      "text/plain": [
       "0.20566406249999997"
      ]
     },
     "execution_count": 128,
     "metadata": {},
     "output_type": "execute_result"
    }
   ],
   "source": [
    "find_threshold(y_train, y_pred_simple)[0]\n",
    "#threshold_func(.2, y_train, y_pred_simple)"
   ]
  },
  {
   "cell_type": "code",
   "execution_count": 172,
   "id": "intense-robertson",
   "metadata": {},
   "outputs": [],
   "source": [
    "model.add(Conv2D(8, kernel_size=3, padding='same', activation=\"relu\", input_shape=SHAPE))\n",
    "model.add(MaxPooling2D(pool_size=(4,4), strides=(1,1)))\n",
    "\n",
    "model.add(Conv2D(16, kernel_size=3, padding='same', activation=\"relu\"))\n",
    "model.add(MaxPooling2D(pool_size=(4,4), strides=(1,1)))\n",
    "\n",
    "model.add(Conv2D(32, kernel_size=3, padding='same', activation=\"relu\"))\n",
    "model.add(MaxPooling2D(pool_size=(4,4), strides=(1,1)))\n",
    "\n",
    "model.add(Conv2D(64, kernel_size=3, padding='same', activation=\"relu\"))\n",
    "model.add(MaxPooling2D(pool_size=(4,4), strides=(1,1)))\n",
    "\n",
    "model.add(Conv2D(128, kernel_size=3, padding='same', activation=\"relu\"))\n",
    "model.add(MaxPooling2D(pool_size=(4,4), strides=(2,2)))\n",
    "\n",
    "model.add(Conv2D(256, kernel_size=3, padding='same', activation=\"relu\"))\n",
    "model.add(MaxPooling2D(pool_size=(4,4), strides=(2,2)))\n",
    "\n",
    "#model.add(Conv2D(256, kernel_size=3, padding='same', activation=\"relu\"))\n",
    "#model.add(MaxPooling2D(pool_size=(4,4), strides=(2,2)))\n",
    "\n",
    "\n",
    "\n",
    "\n",
    "model.add(Flatten())\n",
    "model.add(Dense(8, activation='sigmoid'))"
   ]
  },
  {
   "cell_type": "code",
   "execution_count": 173,
   "id": "conceptual-lecture",
   "metadata": {},
   "outputs": [
    {
     "name": "stdout",
     "output_type": "stream",
     "text": [
      "Model: \"sequential_12\"\n",
      "_________________________________________________________________\n",
      "Layer (type)                 Output Shape              Param #   \n",
      "=================================================================\n",
      "conv2d_62 (Conv2D)           (None, 75, 75, 8)         224       \n",
      "_________________________________________________________________\n",
      "max_pooling2d_55 (MaxPooling (None, 72, 72, 8)         0         \n",
      "_________________________________________________________________\n",
      "conv2d_63 (Conv2D)           (None, 72, 72, 16)        1168      \n",
      "_________________________________________________________________\n",
      "max_pooling2d_56 (MaxPooling (None, 69, 69, 16)        0         \n",
      "_________________________________________________________________\n",
      "conv2d_64 (Conv2D)           (None, 69, 69, 32)        4640      \n",
      "_________________________________________________________________\n",
      "max_pooling2d_57 (MaxPooling (None, 66, 66, 32)        0         \n",
      "_________________________________________________________________\n",
      "conv2d_65 (Conv2D)           (None, 66, 66, 64)        18496     \n",
      "_________________________________________________________________\n",
      "max_pooling2d_58 (MaxPooling (None, 63, 63, 64)        0         \n",
      "_________________________________________________________________\n",
      "conv2d_66 (Conv2D)           (None, 63, 63, 128)       73856     \n",
      "_________________________________________________________________\n",
      "max_pooling2d_59 (MaxPooling (None, 30, 30, 128)       0         \n",
      "_________________________________________________________________\n",
      "conv2d_67 (Conv2D)           (None, 30, 30, 256)       295168    \n",
      "_________________________________________________________________\n",
      "max_pooling2d_60 (MaxPooling (None, 14, 14, 256)       0         \n",
      "_________________________________________________________________\n",
      "flatten_10 (Flatten)         (None, 50176)             0         \n",
      "_________________________________________________________________\n",
      "dense_10 (Dense)             (None, 8)                 401416    \n",
      "=================================================================\n",
      "Total params: 794,968\n",
      "Trainable params: 794,968\n",
      "Non-trainable params: 0\n",
      "_________________________________________________________________\n"
     ]
    }
   ],
   "source": [
    "model.summary()"
   ]
  },
  {
   "cell_type": "code",
   "execution_count": 174,
   "id": "secure-recognition",
   "metadata": {},
   "outputs": [
    {
     "name": "stdout",
     "output_type": "stream",
     "text": [
      "Epoch 1/10\n",
      "259/259 [==============================] - 252s 974ms/step - loss: 0.5293 - val_loss: 0.3584\n",
      "Epoch 2/10\n",
      "259/259 [==============================] - 256s 988ms/step - loss: 0.3453 - val_loss: 0.3510\n",
      "Epoch 3/10\n",
      "259/259 [==============================] - 247s 954ms/step - loss: 0.3365 - val_loss: 0.3404\n",
      "Epoch 4/10\n",
      "259/259 [==============================] - 249s 961ms/step - loss: 0.3301 - val_loss: 0.3369\n",
      "Epoch 5/10\n",
      "259/259 [==============================] - 246s 951ms/step - loss: 0.3267 - val_loss: 0.3346\n",
      "Epoch 6/10\n",
      "259/259 [==============================] - 245s 947ms/step - loss: 0.3243 - val_loss: 0.3412\n",
      "Epoch 7/10\n",
      "259/259 [==============================] - 246s 952ms/step - loss: 0.3204 - val_loss: 0.3284\n",
      "Epoch 8/10\n",
      "259/259 [==============================] - 247s 954ms/step - loss: 0.3175 - val_loss: 0.3250\n",
      "Epoch 9/10\n",
      "259/259 [==============================] - 245s 946ms/step - loss: 0.3136 - val_loss: 0.3259\n",
      "Epoch 10/10\n",
      "259/259 [==============================] - 245s 947ms/step - loss: 0.3132 - val_loss: 0.3258\n"
     ]
    },
    {
     "data": {
      "text/plain": [
       "<tensorflow.python.keras.callbacks.History at 0x2af093eca90>"
      ]
     },
     "execution_count": 174,
     "metadata": {},
     "output_type": "execute_result"
    }
   ],
   "source": [
    "\n",
    "model.compile(optimizer='adam', loss='binary_crossentropy')\n",
    "model.fit(X_train, y_train,\n",
    "                        epochs=10,\n",
    "                        verbose=True,\n",
    "                        validation_data=(X_cv, y_cv),\n",
    "                        batch_size=20, callbacks=[])"
   ]
  },
  {
   "cell_type": "code",
   "execution_count": 175,
   "id": "provincial-nightmare",
   "metadata": {},
   "outputs": [],
   "source": [
    "y_pred_cv = model.predict(X_cv)"
   ]
  },
  {
   "cell_type": "code",
   "execution_count": 25,
   "id": "cardiac-motion",
   "metadata": {},
   "outputs": [],
   "source": [
    "#F1 Score = 2 * (precision * recall) / (precision + recall)\n",
    "# precision = tp/(tp+fp) recall = tp/(tp+fn)\n",
    "def f1(ar, ar_pred):\n",
    "    tp = len(ar[(ar==ar_pred) & (ar_pred==1)])\n",
    "    fp = len(ar[(ar!=ar_pred) & (ar==1)])\n",
    "    fn = len(ar[(ar!=ar_pred) & (ar_pred==1)])\n",
    "    print(tp,fn,fp)\n",
    "    if ((tp+fp) == 0) or ((tp+fn) == 0): return 0\n",
    "    precision = tp/(tp+fp)\n",
    "    recall = tp/(tp+fn)\n",
    "    if (precision+recall) == 0: return 0\n",
    "    return 2*(precision*recall)/(precision+recall)\n",
    "\n",
    "def multilabel_f1score(y, y_pred):\n",
    "    scores=[]\n",
    "    for col_ix in range(y.shape[1]):\n",
    "        scores.append(f1(y[:, col_ix], y_pred[:, col_ix]))\n",
    "    return np.mean(scores), scores\n",
    "        "
   ]
  },
  {
   "cell_type": "code",
   "execution_count": 177,
   "id": "median-morrison",
   "metadata": {},
   "outputs": [],
   "source": [
    "y_pred = model.predict(X_train)"
   ]
  },
  {
   "cell_type": "code",
   "execution_count": 26,
   "id": "traditional-presentation",
   "metadata": {},
   "outputs": [],
   "source": [
    "def apply_thresh(y_pred, threshold):\n",
    "    out = y_pred.copy()\n",
    "    out[out>=threshold] = 1\n",
    "    out[out<threshold] = 0\n",
    "    return out"
   ]
  },
  {
   "cell_type": "code",
   "execution_count": 187,
   "id": "defined-stable",
   "metadata": {},
   "outputs": [
    {
     "name": "stdout",
     "output_type": "stream",
     "text": [
      "1625 2863 84\n",
      "1611 2638 108\n",
      "66 63 247\n",
      "241 208 89\n",
      "16 22 234\n",
      "14 10 147\n",
      "162 110 87\n",
      "1146 3000 132\n"
     ]
    },
    {
     "data": {
      "text/plain": [
       "(0.41107762660487934,\n",
       " [0.5244473132160723,\n",
       "  0.5398793565683647,\n",
       "  0.2986425339366516,\n",
       "  0.6187419768934532,\n",
       "  0.1111111111111111,\n",
       "  0.15135135135135133,\n",
       "  0.6218809980806143,\n",
       "  0.4225663716814159])"
      ]
     },
     "execution_count": 187,
     "metadata": {},
     "output_type": "execute_result"
    }
   ],
   "source": [
    "multilabel_f1score(y_train, apply_thresh(y_pred,.19))"
   ]
  },
  {
   "cell_type": "code",
   "execution_count": 188,
   "id": "verbal-white",
   "metadata": {},
   "outputs": [
    {
     "name": "stdout",
     "output_type": "stream",
     "text": [
      "172 333 12\n",
      "174 301 17\n",
      "6 8 32\n",
      "23 21 11\n",
      "0 3 33\n",
      "1 4 18\n",
      "14 12 14\n",
      "124 320 30\n"
     ]
    },
    {
     "data": {
      "text/plain": [
       "(0.3573596530682257,\n",
       " [0.4992743105950654,\n",
       "  0.5225225225225225,\n",
       "  0.23076923076923078,\n",
       "  0.5897435897435898,\n",
       "  0,\n",
       "  0.08333333333333333,\n",
       "  0.5185185185185186,\n",
       "  0.4147157190635451])"
      ]
     },
     "execution_count": 188,
     "metadata": {},
     "output_type": "execute_result"
    }
   ],
   "source": [
    "multilabel_f1score(y_cv, apply_thresh(y_pred_cv, .19))"
   ]
  },
  {
   "cell_type": "code",
   "execution_count": 141,
   "id": "criminal-notion",
   "metadata": {},
   "outputs": [
    {
     "data": {
      "text/plain": [
       "0.22676224125"
      ]
     },
     "execution_count": 141,
     "metadata": {},
     "output_type": "execute_result"
    }
   ],
   "source": [
    "np.mean([0.        , 0.22488314, 0.32800321, 0.01568627, 0.03556188,\n",
    "       0.5681946 , 0.62132543, 0.0204434 ])"
   ]
  },
  {
   "cell_type": "markdown",
   "id": "exclusive-fifty",
   "metadata": {},
   "source": [
    "# Pre trained model"
   ]
  },
  {
   "cell_type": "code",
   "execution_count": 66,
   "id": "finnish-protein",
   "metadata": {},
   "outputs": [],
   "source": [
    "X_train_resnet = preprocess_input(X_train)\n",
    "X_cv_resnet = preprocess_input(X_cv)"
   ]
  },
  {
   "cell_type": "code",
   "execution_count": 67,
   "id": "norman-fisher",
   "metadata": {},
   "outputs": [],
   "source": [
    "model2 = Sequential()"
   ]
  },
  {
   "cell_type": "code",
   "execution_count": 68,
   "id": "dressed-headline",
   "metadata": {},
   "outputs": [],
   "source": [
    "model2.add(ResNet50(include_top=False, weights='imagenet', input_shape=(150,150,3)))"
   ]
  },
  {
   "cell_type": "code",
   "execution_count": 69,
   "id": "satisfactory-index",
   "metadata": {},
   "outputs": [],
   "source": [
    "model2.add(Flatten())"
   ]
  },
  {
   "cell_type": "code",
   "execution_count": 70,
   "id": "sound-momentum",
   "metadata": {},
   "outputs": [],
   "source": [
    "model2.add(Dense(8, activation='sigmoid'))"
   ]
  },
  {
   "cell_type": "code",
   "execution_count": 71,
   "id": "considered-computer",
   "metadata": {},
   "outputs": [
    {
     "name": "stdout",
     "output_type": "stream",
     "text": [
      "Model: \"sequential_2\"\n",
      "_________________________________________________________________\n",
      "Layer (type)                 Output Shape              Param #   \n",
      "=================================================================\n",
      "resnet50 (Functional)        (None, 5, 5, 2048)        23587712  \n",
      "_________________________________________________________________\n",
      "flatten_2 (Flatten)          (None, 51200)             0         \n",
      "_________________________________________________________________\n",
      "dense_2 (Dense)              (None, 8)                 409608    \n",
      "=================================================================\n",
      "Total params: 23,997,320\n",
      "Trainable params: 23,944,200\n",
      "Non-trainable params: 53,120\n",
      "_________________________________________________________________\n"
     ]
    }
   ],
   "source": [
    "model2.summary()"
   ]
  },
  {
   "cell_type": "code",
   "execution_count": 72,
   "id": "protecting-shakespeare",
   "metadata": {},
   "outputs": [],
   "source": [
    "model2.compile(optimizer='adam', loss='binary_crossentropy')"
   ]
  },
  {
   "cell_type": "code",
   "execution_count": 73,
   "id": "offensive-antigua",
   "metadata": {},
   "outputs": [
    {
     "name": "stdout",
     "output_type": "stream",
     "text": [
      "Epoch 1/10\n",
      "259/259 [==============================] - 1222s 5s/step - loss: 0.4643 - val_loss: 0.3821\n",
      "Epoch 2/10\n",
      "259/259 [==============================] - 1236s 5s/step - loss: 0.3274 - val_loss: 0.4541\n",
      "Epoch 3/10\n",
      "259/259 [==============================] - 1244s 5s/step - loss: 0.3136 - val_loss: 0.4028\n",
      "Epoch 4/10\n",
      "259/259 [==============================] - 1235s 5s/step - loss: 0.3059 - val_loss: 0.3641\n",
      "Epoch 5/10\n",
      "259/259 [==============================] - 1255s 5s/step - loss: 0.3021 - val_loss: 0.3895\n",
      "Epoch 6/10\n",
      "259/259 [==============================] - 1244s 5s/step - loss: 0.2852 - val_loss: 0.3559\n",
      "Epoch 7/10\n",
      "259/259 [==============================] - 1235s 5s/step - loss: 0.2728 - val_loss: 0.3425\n",
      "Epoch 8/10\n",
      "259/259 [==============================] - 1233s 5s/step - loss: 0.2554 - val_loss: 0.3800\n",
      "Epoch 9/10\n",
      "259/259 [==============================] - 1236s 5s/step - loss: 0.2370 - val_loss: 0.3887\n",
      "Epoch 10/10\n",
      "259/259 [==============================] - 1221s 5s/step - loss: 0.2181 - val_loss: 0.4148\n"
     ]
    },
    {
     "data": {
      "text/plain": [
       "<tensorflow.python.keras.callbacks.History at 0x1ed90e8a4c0>"
      ]
     },
     "execution_count": 73,
     "metadata": {},
     "output_type": "execute_result"
    }
   ],
   "source": [
    "model2.fit(X_train_resnet, y_train,\n",
    "                        epochs=10,\n",
    "                        verbose=True,\n",
    "                        validation_data=(X_cv_resnet, y_cv),\n",
    "                        batch_size=20, callbacks=[])"
   ]
  },
  {
   "cell_type": "code",
   "execution_count": 74,
   "id": "simple-copyright",
   "metadata": {},
   "outputs": [],
   "source": [
    "y_resnet_pred = model2.predict(X_train_resnet)"
   ]
  },
  {
   "cell_type": "code",
   "execution_count": 75,
   "id": "marine-gabriel",
   "metadata": {},
   "outputs": [],
   "source": [
    "y_resnet_pred_cv = model2.predict(X_cv_resnet)"
   ]
  },
  {
   "cell_type": "code",
   "execution_count": 83,
   "id": "healthy-attribute",
   "metadata": {},
   "outputs": [
    {
     "name": "stdout",
     "output_type": "stream",
     "text": [
      "1504 1244 205\n",
      "1570 1567 149\n",
      "120 24 193\n",
      "308 811 22\n",
      "103 50 147\n",
      "75 87 86\n",
      "160 3 89\n",
      "882 771 396\n"
     ]
    },
    {
     "data": {
      "text/plain": [
       "(0.5782381236548413,\n",
       " [0.6748934260713485,\n",
       "  0.6466227347611203,\n",
       "  0.5251641137855579,\n",
       "  0.42512077294685985,\n",
       "  0.511166253101737,\n",
       "  0.4643962848297214,\n",
       "  0.7766990291262135,\n",
       "  0.601842374616172])"
      ]
     },
     "execution_count": 83,
     "metadata": {},
     "output_type": "execute_result"
    }
   ],
   "source": [
    "multilabel_f1score(y_train, apply_thresh(y_resnet_pred,.125))"
   ]
  },
  {
   "cell_type": "code",
   "execution_count": 84,
   "id": "center-federal",
   "metadata": {},
   "outputs": [
    {
     "name": "stdout",
     "output_type": "stream",
     "text": [
      "131 209 53\n",
      "145 225 46\n",
      "3 6 35\n",
      "26 90 8\n",
      "5 12 28\n",
      "3 10 16\n",
      "14 3 14\n",
      "47 127 107\n"
     ]
    },
    {
     "data": {
      "text/plain": [
       "(0.34844598444455543,\n",
       " [0.5,\n",
       "  0.5169340463458111,\n",
       "  0.12765957446808512,\n",
       "  0.3466666666666667,\n",
       "  0.19999999999999998,\n",
       "  0.18749999999999997,\n",
       "  0.6222222222222222,\n",
       "  0.2865853658536585])"
      ]
     },
     "execution_count": 84,
     "metadata": {},
     "output_type": "execute_result"
    }
   ],
   "source": [
    "multilabel_f1score(y_cv, apply_thresh(y_resnet_pred_cv,.125))"
   ]
  },
  {
   "cell_type": "code",
   "execution_count": null,
   "id": "fundamental-market",
   "metadata": {},
   "outputs": [],
   "source": [
    "(0.3573596530682257,\n",
    " [0.4992743105950654,\n",
    "  0.5225225225225225,\n",
    "  0.23076923076923078,\n",
    "  0.5897435897435898,\n",
    "  0,\n",
    "  0.08333333333333333,\n",
    "  0.5185185185185186,\n",
    "  0.4147157190635451])"
   ]
  }
 ],
 "metadata": {
  "kernelspec": {
   "display_name": "Python 3",
   "language": "python",
   "name": "python3"
  },
  "language_info": {
   "codemirror_mode": {
    "name": "ipython",
    "version": 3
   },
   "file_extension": ".py",
   "mimetype": "text/x-python",
   "name": "python",
   "nbconvert_exporter": "python",
   "pygments_lexer": "ipython3",
   "version": "3.8.8"
  }
 },
 "nbformat": 4,
 "nbformat_minor": 5
}
