{
 "cells": [
  {
   "cell_type": "code",
   "execution_count": 1,
   "metadata": {},
   "outputs": [],
   "source": [
    "import pandas as pd\n",
    "import numpy as np\n",
    "import matplotlib.pyplot as plt\n",
    "import os\n",
    "import seaborn as sns\n",
    "from functools import reduce\n",
    "import cv2 \n",
    "import math\n",
    "from mpl_toolkits.axes_grid1 import ImageGrid\n",
    "from sklearn.decomposition import PCA"
   ]
  },
  {
   "cell_type": "code",
   "execution_count": 2,
   "metadata": {},
   "outputs": [
    {
     "name": "stdout",
     "output_type": "stream",
     "text": [
      "/home/fitzaudoen/apps/oculardisease_recog\n"
     ]
    }
   ],
   "source": [
    "if os.path.split(os.getcwd())[-1] == 'notebooks': os.chdir(os.path.split(os.getcwd())[-2])\n",
    "print(os.getcwd())"
   ]
  },
  {
   "cell_type": "code",
   "execution_count": 3,
   "metadata": {},
   "outputs": [],
   "source": [
    "sns.set()\n",
    "sns.set_context('talk')"
   ]
  },
  {
   "cell_type": "code",
   "execution_count": 4,
   "metadata": {},
   "outputs": [],
   "source": [
    "df = pd.read_csv('data/full_df.csv')"
   ]
  },
  {
   "cell_type": "code",
   "execution_count": 6,
   "metadata": {},
   "outputs": [],
   "source": [
    "def diagnosis_identifier(row):\n",
    "    diagid = ''\n",
    "    #print(row)\n",
    "    for key in ['N', 'D','G', 'C', 'A', 'H', 'M', 'O']:\n",
    "        if (int(row[key]) == 1):\n",
    "            #print('yes')\n",
    "            #print(key)\n",
    "            diagid+=key\n",
    "            #print(key)\n",
    "    if len(diagid)==0: diagid='NAN'\n",
    "    return diagid\n",
    "\n",
    "df['diag_id'] = df.apply(lambda row: diagnosis_identifier(row), axis=1)"
   ]
  },
  {
   "cell_type": "code",
   "execution_count": 8,
   "metadata": {},
   "outputs": [],
   "source": [
    "def extract_img_features(fn, imgdir='data/preprocessed_images'):\n",
    "    '''\n",
    "    Take input filename for preprocessed fundus image.\n",
    "    Assumes resolution of 512 px by 512 px. \n",
    "    Returns a 1 dimensional row vector\n",
    "    '''\n",
    "    path = os.path.join(imgdir, fn)\n",
    "    img = cv2.imread(path)\n",
    "    try:\n",
    "        img = img.reshape(1, 512*512*3)\n",
    "    except:\n",
    "        raise ValueError('Unable to reshape image. Ensure the image is 512 px by 512 px')\n",
    "    \n",
    "    return img\n",
    "\n",
    "\n",
    "def df_to_arrays(df, imgdir='data/preprocessed_images'):\n",
    "    '''\n",
    "    Take input dataframe and add columns for pixel values for that rows images. Returns a new dataframe with \n",
    "    the existing data and the new image data.\n",
    "    \n",
    "    Keyword Arguments:\n",
    "    df -- dataframe of image data. Assumes df has a column for image filename. Images must confirm to requirements\n",
    "        for extract_img_features function\n",
    "    imgdir -- location of images refrences in dataframe filename column\n",
    "    \n",
    "    Returns:\n",
    "    data_arr: header information and diagnosis ID\n",
    "    img_arr: image data in row vector form\n",
    "    '''\n",
    "    \n",
    "    # Extract data from dataframe\n",
    "    data_arr = df.values\n",
    "    data_cols = list(df.columns.values)\n",
    "    # Make sure filename is passed\n",
    "    if 'filename' not in data_cols: raise ValueError('Dataframe must contain a filename column.')\n",
    "    \n",
    "    # Iterate over each row of data an extract an image for each filename\n",
    "    img_arr = None\n",
    "    for row in data_arr:\n",
    "        fn = row[df.columns.values=='filename'][0]\n",
    "        # print(fn)\n",
    "        img = extract_img_features(fn, imgdir)\n",
    "        if img_arr is None: img_arr=img\n",
    "        else: img_arr=np.concatenate((img_arr, img))\n",
    "\n",
    "   # img_features = np.array(img_features)  \n",
    "    \n",
    "    #Concatenate data into a new dataframe\n",
    "    #pxcol_names = ['Pxcol_{}'.format(val) for val in range(0, img_features.shape[1])]\n",
    "    \n",
    "    #image_df = pd.DataFrame(img_features, columns=pxcol_names)\n",
    "    #data_df = pd.DataFrame(data, columns=data_cols)\n",
    "    \n",
    "    return data_arr, img_arr"
   ]
  },
  {
   "cell_type": "code",
   "execution_count": 12,
   "metadata": {},
   "outputs": [],
   "source": [
    "data, images = df_to_arrays(df.sample(500))"
   ]
  },
  {
   "cell_type": "code",
   "execution_count": 18,
   "metadata": {},
   "outputs": [
    {
     "data": {
      "text/plain": [
       "array(['A', 'AH', 'AO', 'C', 'CO', 'D', 'DA', 'DC', 'DCO', 'DG', 'DGO',\n",
       "       'DH', 'DM', 'DMO', 'DO', 'G', 'GA', 'GH', 'GM', 'GO', 'H', 'HO',\n",
       "       'M', 'MO', 'N', 'O'], dtype=object)"
      ]
     },
     "execution_count": 18,
     "metadata": {},
     "output_type": "execute_result"
    }
   ],
   "source": [
    "np.unique(data[:,19])"
   ]
  },
  {
   "cell_type": "code",
   "execution_count": 20,
   "metadata": {},
   "outputs": [],
   "source": [
    "pca = PCA(n_components=0.7)"
   ]
  },
  {
   "cell_type": "code",
   "execution_count": null,
   "metadata": {},
   "outputs": [],
   "source": [
    "pca.fit(images)"
   ]
  },
  {
   "cell_type": "code",
   "execution_count": null,
   "metadata": {},
   "outputs": [],
   "source": []
  }
 ],
 "metadata": {
  "kernelspec": {
   "display_name": "Python 3",
   "language": "python",
   "name": "python3"
  },
  "language_info": {
   "codemirror_mode": {
    "name": "ipython",
    "version": 3
   },
   "file_extension": ".py",
   "mimetype": "text/x-python",
   "name": "python",
   "nbconvert_exporter": "python",
   "pygments_lexer": "ipython3",
   "version": "3.8.6"
  }
 },
 "nbformat": 4,
 "nbformat_minor": 4
}
