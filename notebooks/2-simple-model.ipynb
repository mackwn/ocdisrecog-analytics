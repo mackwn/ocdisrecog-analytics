{
 "cells": [
  {
   "cell_type": "code",
   "execution_count": 88,
   "metadata": {},
   "outputs": [],
   "source": [
    "import pandas as pd\n",
    "import numpy as np\n",
    "import matplotlib.pyplot as plt\n",
    "import os\n",
    "import seaborn as sns\n",
    "from functools import reduce\n",
    "import cv2 \n",
    "import math\n",
    "from mpl_toolkits.axes_grid1 import ImageGrid\n",
    "from sklearn.decomposition import PCA\n",
    "from sklearn.model_selection import train_test_split\n",
    "from sklearn.linear_model import LogisticRegression\n",
    "from sklearn.metrics import precision_recall_fscore_support\n",
    "from sklearn.model_selection import StratifiedKFold\n",
    "from sklearn.neural_network import MLPClassifier"
   ]
  },
  {
   "cell_type": "code",
   "execution_count": 3,
   "metadata": {},
   "outputs": [
    {
     "name": "stdout",
     "output_type": "stream",
     "text": [
      "C:\\Users\\smcko\\Documents\\programming\\ocdisrecog-analytics\n"
     ]
    }
   ],
   "source": [
    "if os.path.split(os.getcwd())[-1] == 'notebooks': os.chdir(os.path.split(os.getcwd())[-2])\n",
    "print(os.getcwd())"
   ]
  },
  {
   "cell_type": "code",
   "execution_count": 4,
   "metadata": {},
   "outputs": [],
   "source": [
    "from src.make_features import *"
   ]
  },
  {
   "cell_type": "code",
   "execution_count": 5,
   "metadata": {},
   "outputs": [],
   "source": [
    "sns.set()\n",
    "sns.set_context('talk')"
   ]
  },
  {
   "cell_type": "code",
   "execution_count": null,
   "metadata": {},
   "outputs": [],
   "source": [
    "random_"
   ]
  },
  {
   "cell_type": "code",
   "execution_count": 6,
   "metadata": {},
   "outputs": [],
   "source": [
    "df = load_header_df()"
   ]
  },
  {
   "cell_type": "code",
   "execution_count": 7,
   "metadata": {},
   "outputs": [],
   "source": [
    "header, images = header_to_img_matrix(df, resize=(75,75))"
   ]
  },
  {
   "cell_type": "code",
   "execution_count": 34,
   "metadata": {},
   "outputs": [],
   "source": [
    "X = images/255"
   ]
  },
  {
   "cell_type": "code",
   "execution_count": 30,
   "metadata": {},
   "outputs": [
    {
     "data": {
      "text/plain": [
       "array([\"['N']\", \"['N']\", \"['D']\", ..., \"['D']\", \"['D']\", \"['H']\"],\n",
       "      dtype=object)"
      ]
     },
     "execution_count": 30,
     "metadata": {},
     "output_type": "execute_result"
    }
   ],
   "source": [
    "header[:,16]"
   ]
  },
  {
   "cell_type": "code",
   "execution_count": 40,
   "metadata": {},
   "outputs": [],
   "source": [
    "Y = header[:,7:15].astype(int)\n",
    "y = header[:,16]"
   ]
  },
  {
   "cell_type": "code",
   "execution_count": 41,
   "metadata": {},
   "outputs": [],
   "source": [
    "X_train, X_test, y_train, y_test = train_test_split(X, y, test_size=.2, stratify=y, random_state=0)"
   ]
  },
  {
   "cell_type": "code",
   "execution_count": 46,
   "metadata": {},
   "outputs": [],
   "source": [
    "lr = LogisticRegression(max_iter=1000)"
   ]
  },
  {
   "cell_type": "code",
   "execution_count": 59,
   "metadata": {},
   "outputs": [],
   "source": []
  },
  {
   "cell_type": "code",
   "execution_count": 47,
   "metadata": {},
   "outputs": [
    {
     "name": "stderr",
     "output_type": "stream",
     "text": [
      "C:\\Users\\smcko\\Anaconda3\\envs\\datascience\\lib\\site-packages\\sklearn\\linear_model\\_logistic.py:763: ConvergenceWarning: lbfgs failed to converge (status=1):\n",
      "STOP: TOTAL NO. of ITERATIONS REACHED LIMIT.\n",
      "\n",
      "Increase the number of iterations (max_iter) or scale the data as shown in:\n",
      "    https://scikit-learn.org/stable/modules/preprocessing.html\n",
      "Please also refer to the documentation for alternative solver options:\n",
      "    https://scikit-learn.org/stable/modules/linear_model.html#logistic-regression\n",
      "  n_iter_i = _check_optimize_result(\n"
     ]
    },
    {
     "data": {
      "text/plain": [
       "LogisticRegression(max_iter=1000)"
      ]
     },
     "execution_count": 47,
     "metadata": {},
     "output_type": "execute_result"
    }
   ],
   "source": [
    "lr.fit(X_train, y_train)"
   ]
  },
  {
   "cell_type": "code",
   "execution_count": 49,
   "metadata": {},
   "outputs": [],
   "source": [
    "y_pred = lr.predict(X_train)"
   ]
  },
  {
   "cell_type": "code",
   "execution_count": 52,
   "metadata": {},
   "outputs": [
    {
     "data": {
      "text/plain": [
       "0.9202034030901624"
      ]
     },
     "execution_count": 52,
     "metadata": {},
     "output_type": "execute_result"
    }
   ],
   "source": [
    "lr.score(X_train, y_train)"
   ]
  },
  {
   "cell_type": "code",
   "execution_count": 61,
   "metadata": {},
   "outputs": [
    {
     "data": {
      "text/plain": [
       "(array([1.        , 0.87373737, 0.95687551, 0.96923077, 1.        ,\n",
       "        1.        , 0.87659082, 0.99126638]),\n",
       " array([0.83098592, 0.73931624, 0.91446345, 0.83259912, 0.76699029,\n",
       "        0.98924731, 0.98912097, 0.80212014]),\n",
       " array([0.90769231, 0.80092593, 0.93518887, 0.8957346 , 0.86813187,\n",
       "        0.99459459, 0.92946228, 0.88671875]),\n",
       " array([ 213,  234, 1286,  227,  103,  186, 2298,  566], dtype=int64))"
      ]
     },
     "execution_count": 61,
     "metadata": {},
     "output_type": "execute_result"
    }
   ],
   "source": [
    "precision_recall_fscore_support(y_train, y_pred)"
   ]
  },
  {
   "cell_type": "code",
   "execution_count": 63,
   "metadata": {},
   "outputs": [],
   "source": [
    "skf = StratifiedKFold(3)"
   ]
  },
  {
   "cell_type": "code",
   "execution_count": 73,
   "metadata": {},
   "outputs": [
    {
     "name": "stdout",
     "output_type": "stream",
     "text": [
      "['A'] (213,) 0.04165851750440055\n",
      "['C'] (234,) 0.04576569528652454\n",
      "['D'] (1286,) 0.25151574418149814\n",
      "['G'] (227,) 0.04439663602581655\n",
      "['H'] (103,) 0.020144729121846273\n",
      "['M'] (186,) 0.03637786035595541\n",
      "['N'] (2298,) 0.44944259730099745\n",
      "['O'] (566,) 0.11069822022296108\n"
     ]
    }
   ],
   "source": [
    "for key in np.unique(y):\n",
    "    print(key, y_train[y_train==key].shape, y_train[y_train==key].shape[0]/y_train.shape[0])"
   ]
  },
  {
   "cell_type": "code",
   "execution_count": 72,
   "metadata": {},
   "outputs": [
    {
     "name": "stderr",
     "output_type": "stream",
     "text": [
      "C:\\Users\\smcko\\Anaconda3\\envs\\datascience\\lib\\site-packages\\sklearn\\linear_model\\_logistic.py:763: ConvergenceWarning: lbfgs failed to converge (status=1):\n",
      "STOP: TOTAL NO. of ITERATIONS REACHED LIMIT.\n",
      "\n",
      "Increase the number of iterations (max_iter) or scale the data as shown in:\n",
      "    https://scikit-learn.org/stable/modules/preprocessing.html\n",
      "Please also refer to the documentation for alternative solver options:\n",
      "    https://scikit-learn.org/stable/modules/linear_model.html#logistic-regression\n",
      "  n_iter_i = _check_optimize_result(\n"
     ]
    },
    {
     "name": "stdout",
     "output_type": "stream",
     "text": [
      "Fold\n",
      "\n",
      "cv test\n",
      " (array([0.2       , 0.40229885, 0.37380952, 0.25531915, 0.2       ,\n",
      "       0.68181818, 0.51127049, 0.20879121]), array([0.08450704, 0.44871795, 0.36596737, 0.16      , 0.05714286,\n",
      "       0.48387097, 0.65143603, 0.1005291 ]), array([0.11881188, 0.42424242, 0.36984688, 0.19672131, 0.08888889,\n",
      "       0.56603774, 0.57290471, 0.13571429]), array([ 71,  78, 429,  75,  35,  62, 766, 189], dtype=int64))\n",
      "cv train\n",
      " (array([1.        , 0.96212121, 0.98817967, 1.        , 1.        ,\n",
      "       1.        , 0.955625  , 0.99721448]), array([0.96478873, 0.81410256, 0.97549592, 0.94078947, 0.98529412,\n",
      "       1.        , 0.99804178, 0.94960212]), array([0.98207885, 0.88194444, 0.98179683, 0.96949153, 0.99259259,\n",
      "       1.        , 0.97637292, 0.97282609]), array([ 142,  156,  857,  152,   68,  124, 1532,  377], dtype=int64))\n"
     ]
    },
    {
     "name": "stderr",
     "output_type": "stream",
     "text": [
      "C:\\Users\\smcko\\Anaconda3\\envs\\datascience\\lib\\site-packages\\sklearn\\linear_model\\_logistic.py:763: ConvergenceWarning: lbfgs failed to converge (status=1):\n",
      "STOP: TOTAL NO. of ITERATIONS REACHED LIMIT.\n",
      "\n",
      "Increase the number of iterations (max_iter) or scale the data as shown in:\n",
      "    https://scikit-learn.org/stable/modules/preprocessing.html\n",
      "Please also refer to the documentation for alternative solver options:\n",
      "    https://scikit-learn.org/stable/modules/linear_model.html#logistic-regression\n",
      "  n_iter_i = _check_optimize_result(\n"
     ]
    },
    {
     "name": "stdout",
     "output_type": "stream",
     "text": [
      "Fold\n",
      "\n",
      "cv test\n",
      " (array([0.11111111, 0.41176471, 0.36853933, 0.17391304, 0.125     ,\n",
      "       0.675     , 0.51544196, 0.10569106]), array([0.02816901, 0.44871795, 0.38317757, 0.10526316, 0.02941176,\n",
      "       0.43548387, 0.63185379, 0.06878307]), array([0.04494382, 0.42944785, 0.37571592, 0.13114754, 0.04761905,\n",
      "       0.52941176, 0.56774194, 0.08333333]), array([ 71,  78, 428,  76,  34,  62, 766, 189], dtype=int64))\n",
      "cv train\n",
      " (array([1.        , 0.94444444, 0.99525504, 0.99315068, 1.        ,\n",
      "       1.        , 0.96532156, 0.98898072]), array([0.96478873, 0.87179487, 0.97785548, 0.9602649 , 0.97101449,\n",
      "       0.99193548, 0.99934726, 0.95225464]), array([0.98207885, 0.90666667, 0.98647854, 0.97643098, 0.98529412,\n",
      "       0.99595142, 0.98203977, 0.97027027]), array([ 142,  156,  858,  151,   69,  124, 1532,  377], dtype=int64))\n"
     ]
    },
    {
     "name": "stderr",
     "output_type": "stream",
     "text": [
      "C:\\Users\\smcko\\Anaconda3\\envs\\datascience\\lib\\site-packages\\sklearn\\linear_model\\_logistic.py:763: ConvergenceWarning: lbfgs failed to converge (status=1):\n",
      "STOP: TOTAL NO. of ITERATIONS REACHED LIMIT.\n",
      "\n",
      "Increase the number of iterations (max_iter) or scale the data as shown in:\n",
      "    https://scikit-learn.org/stable/modules/preprocessing.html\n",
      "Please also refer to the documentation for alternative solver options:\n",
      "    https://scikit-learn.org/stable/modules/linear_model.html#logistic-regression\n",
      "  n_iter_i = _check_optimize_result(\n"
     ]
    },
    {
     "name": "stdout",
     "output_type": "stream",
     "text": [
      "Fold\n",
      "\n",
      "cv test\n",
      " (array([0.08      , 0.34328358, 0.38349515, 0.22222222, 0.18181818,\n",
      "       0.81818182, 0.49753695, 0.17142857]), array([0.02816901, 0.29487179, 0.36829837, 0.10526316, 0.05882353,\n",
      "       0.43548387, 0.65926893, 0.09574468]), array([0.04166667, 0.31724138, 0.37574316, 0.14285714, 0.08888889,\n",
      "       0.56842105, 0.56709714, 0.12286689]), array([ 71,  78, 429,  76,  34,  62, 766, 188], dtype=int64))\n",
      "cv train\n",
      " (array([1.        , 0.93661972, 0.98696682, 0.99295775, 1.        ,\n",
      "       1.        , 0.94671623, 0.99425287]), array([0.92253521, 0.8525641 , 0.97199533, 0.93377483, 0.94202899,\n",
      "       0.99193548, 0.99738903, 0.91534392]), array([0.95970696, 0.89261745, 0.97942387, 0.96245734, 0.97014925,\n",
      "       0.99595142, 0.97139224, 0.95316804]), array([ 142,  156,  857,  151,   69,  124, 1532,  378], dtype=int64))\n"
     ]
    }
   ],
   "source": [
    "skf_lr_models = []\n",
    "skf_lr_scores_cvtest = []\n",
    "skf_lr_scores_cvtrain = []\n",
    "for train_ixes, test_ixes in skf.split(X_train, y_train):\n",
    "    #print(x_ixes, y_ixes)\n",
    "    skf_lr = LogisticRegression(max_iter=1000)\n",
    "    skf_lr.fit(X_train[train_ixes,:], y_train[train_ixes])\n",
    "    skf_lr_models.append(skf_lr)\n",
    "    y_pred_train = skf_lr.predict(X_train[train_ixes,:])\n",
    "    y_pred_test = skf_lr.predict(X_train[test_ixes,:])\n",
    "    \n",
    "    print('Fold\\n')\n",
    "    score_cvtrain = precision_recall_fscore_support(y_train[train_ixes], y_pred_train)\n",
    "    score_cvtest = precision_recall_fscore_support(y_train[test_ixes], y_pred_test)\n",
    "    print('cv test\\n', score_cvtest)\n",
    "    print('cv train\\n', score_cvtrain)\n",
    "    skf_lr_scores_cvtest.append(score_cvtest)\n",
    "    skf_lr_scores_cvtrain.append(score_cvtrain)\n",
    "    skf_lr_models.append(skf_lr)"
   ]
  },
  {
   "cell_type": "code",
   "execution_count": 75,
   "metadata": {},
   "outputs": [
    {
     "name": "stderr",
     "output_type": "stream",
     "text": [
      "C:\\Users\\smcko\\Anaconda3\\envs\\datascience\\lib\\site-packages\\sklearn\\linear_model\\_logistic.py:763: ConvergenceWarning: lbfgs failed to converge (status=1):\n",
      "STOP: TOTAL NO. of ITERATIONS REACHED LIMIT.\n",
      "\n",
      "Increase the number of iterations (max_iter) or scale the data as shown in:\n",
      "    https://scikit-learn.org/stable/modules/preprocessing.html\n",
      "Please also refer to the documentation for alternative solver options:\n",
      "    https://scikit-learn.org/stable/modules/linear_model.html#logistic-regression\n",
      "  n_iter_i = _check_optimize_result(\n"
     ]
    },
    {
     "name": "stdout",
     "output_type": "stream",
     "text": [
      "Fold\n",
      "\n",
      "cv test\n",
      " (array([0.        , 0.52380952, 0.45614035, 0.        , 0.5       ,\n",
      "       0.75609756, 0.489301  , 0.25      ]), array([0.        , 0.14102564, 0.24242424, 0.        , 0.02857143,\n",
      "       0.5       , 0.89556136, 0.01058201]), array([0.        , 0.22222222, 0.31659056, 0.        , 0.05405405,\n",
      "       0.60194175, 0.63284133, 0.02030457]), array([ 71,  78, 429,  75,  35,  62, 766, 189], dtype=int64))\n",
      "cv train\n",
      " (array([0.        , 0.67567568, 0.55      , 1.        , 1.        ,\n",
      "       0.8875    , 0.50705244, 0.57142857]), array([0.        , 0.16025641, 0.32088681, 0.02631579, 0.01470588,\n",
      "       0.57258065, 0.9151436 , 0.03183024]), array([0.        , 0.25906736, 0.40530582, 0.05128205, 0.02898551,\n",
      "       0.69607843, 0.65254829, 0.06030151]), array([ 142,  156,  857,  152,   68,  124, 1532,  377], dtype=int64))\n"
     ]
    },
    {
     "name": "stderr",
     "output_type": "stream",
     "text": [
      "C:\\Users\\smcko\\Anaconda3\\envs\\datascience\\lib\\site-packages\\sklearn\\metrics\\_classification.py:1245: UndefinedMetricWarning: Precision and F-score are ill-defined and being set to 0.0 in labels with no predicted samples. Use `zero_division` parameter to control this behavior.\n",
      "  _warn_prf(average, modifier, msg_start, len(result))\n",
      "C:\\Users\\smcko\\Anaconda3\\envs\\datascience\\lib\\site-packages\\sklearn\\metrics\\_classification.py:1245: UndefinedMetricWarning: Precision and F-score are ill-defined and being set to 0.0 in labels with no predicted samples. Use `zero_division` parameter to control this behavior.\n",
      "  _warn_prf(average, modifier, msg_start, len(result))\n",
      "C:\\Users\\smcko\\Anaconda3\\envs\\datascience\\lib\\site-packages\\sklearn\\linear_model\\_logistic.py:763: ConvergenceWarning: lbfgs failed to converge (status=1):\n",
      "STOP: TOTAL NO. of ITERATIONS REACHED LIMIT.\n",
      "\n",
      "Increase the number of iterations (max_iter) or scale the data as shown in:\n",
      "    https://scikit-learn.org/stable/modules/preprocessing.html\n",
      "Please also refer to the documentation for alternative solver options:\n",
      "    https://scikit-learn.org/stable/modules/linear_model.html#logistic-regression\n",
      "  n_iter_i = _check_optimize_result(\n"
     ]
    },
    {
     "name": "stdout",
     "output_type": "stream",
     "text": [
      "Fold\n",
      "\n",
      "cv test\n",
      " (array([0.        , 0.52      , 0.40514469, 0.        , 0.        ,\n",
      "       0.8125    , 0.48496241, 0.5       ]), array([0.        , 0.16666667, 0.29439252, 0.        , 0.        ,\n",
      "       0.41935484, 0.84203655, 0.01587302]), array([0.        , 0.25242718, 0.34100135, 0.        , 0.        ,\n",
      "       0.55319149, 0.61545802, 0.03076923]), array([ 71,  78, 428,  76,  34,  62, 766, 189], dtype=int64))\n",
      "cv train\n",
      " (array([0.        , 0.70833333, 0.53658537, 0.66666667, 1.        ,\n",
      "       0.84705882, 0.51414921, 0.8       ]), array([0.        , 0.21794872, 0.33333333, 0.02649007, 0.01449275,\n",
      "       0.58064516, 0.91318538, 0.03183024]), array([0.        , 0.33333333, 0.41121495, 0.05095541, 0.02857143,\n",
      "       0.68899522, 0.65788855, 0.06122449]), array([ 142,  156,  858,  151,   69,  124, 1532,  377], dtype=int64))\n"
     ]
    },
    {
     "name": "stderr",
     "output_type": "stream",
     "text": [
      "C:\\Users\\smcko\\Anaconda3\\envs\\datascience\\lib\\site-packages\\sklearn\\metrics\\_classification.py:1245: UndefinedMetricWarning: Precision and F-score are ill-defined and being set to 0.0 in labels with no predicted samples. Use `zero_division` parameter to control this behavior.\n",
      "  _warn_prf(average, modifier, msg_start, len(result))\n",
      "C:\\Users\\smcko\\Anaconda3\\envs\\datascience\\lib\\site-packages\\sklearn\\metrics\\_classification.py:1245: UndefinedMetricWarning: Precision and F-score are ill-defined and being set to 0.0 in labels with no predicted samples. Use `zero_division` parameter to control this behavior.\n",
      "  _warn_prf(average, modifier, msg_start, len(result))\n",
      "C:\\Users\\smcko\\Anaconda3\\envs\\datascience\\lib\\site-packages\\sklearn\\linear_model\\_logistic.py:763: ConvergenceWarning: lbfgs failed to converge (status=1):\n",
      "STOP: TOTAL NO. of ITERATIONS REACHED LIMIT.\n",
      "\n",
      "Increase the number of iterations (max_iter) or scale the data as shown in:\n",
      "    https://scikit-learn.org/stable/modules/preprocessing.html\n",
      "Please also refer to the documentation for alternative solver options:\n",
      "    https://scikit-learn.org/stable/modules/linear_model.html#logistic-regression\n",
      "  n_iter_i = _check_optimize_result(\n"
     ]
    },
    {
     "name": "stdout",
     "output_type": "stream",
     "text": [
      "Fold\n",
      "\n",
      "cv test\n",
      " (array([0.        , 0.45454545, 0.40136054, 0.22222222, 0.25      ,\n",
      "       0.86206897, 0.48394324, 0.14285714]), array([0.        , 0.12820513, 0.27505828, 0.02631579, 0.02941176,\n",
      "       0.40322581, 0.845953  , 0.00531915]), array([0.        , 0.2       , 0.3264177 , 0.04705882, 0.05263158,\n",
      "       0.54945055, 0.61567696, 0.01025641]), array([ 71,  78, 429,  76,  34,  62, 766, 188], dtype=int64))\n",
      "cv train\n",
      " (array([1.        , 0.73529412, 0.55555556, 0.875     , 1.        ,\n",
      "       0.87356322, 0.52207792, 0.68181818]), array([0.00704225, 0.16025641, 0.36172695, 0.04635762, 0.05797101,\n",
      "       0.61290323, 0.91840731, 0.03968254]), array([0.01398601, 0.26315789, 0.43816254, 0.08805031, 0.10958904,\n",
      "       0.72037915, 0.66572037, 0.075     ]), array([ 142,  156,  857,  151,   69,  124, 1532,  378], dtype=int64))\n"
     ]
    },
    {
     "name": "stderr",
     "output_type": "stream",
     "text": [
      "C:\\Users\\smcko\\Anaconda3\\envs\\datascience\\lib\\site-packages\\sklearn\\metrics\\_classification.py:1245: UndefinedMetricWarning: Precision and F-score are ill-defined and being set to 0.0 in labels with no predicted samples. Use `zero_division` parameter to control this behavior.\n",
      "  _warn_prf(average, modifier, msg_start, len(result))\n"
     ]
    }
   ],
   "source": [
    "skf_lr_models = []\n",
    "skf_lr_scores_cvtest = []\n",
    "skf_lr_scores_cvtrain = []\n",
    "for train_ixes, test_ixes in skf.split(X_train, y_train):\n",
    "    #print(x_ixes, y_ixes)\n",
    "    skf_lr = LogisticRegression(max_iter=1000, C=.01)\n",
    "    skf_lr.fit(X_train[train_ixes,:], y_train[train_ixes])\n",
    "    skf_lr_models.append(skf_lr)\n",
    "    y_pred_train = skf_lr.predict(X_train[train_ixes,:])\n",
    "    y_pred_test = skf_lr.predict(X_train[test_ixes,:])\n",
    "    \n",
    "    print('Fold\\n')\n",
    "    score_cvtrain = precision_recall_fscore_support(y_train[train_ixes], y_pred_train)\n",
    "    score_cvtest = precision_recall_fscore_support(y_train[test_ixes], y_pred_test)\n",
    "    print('cv test\\n', score_cvtest)\n",
    "    print('cv train\\n', score_cvtrain)\n",
    "    skf_lr_scores_cvtest.append(score_cvtest)\n",
    "    skf_lr_scores_cvtrain.append(score_cvtrain)\n",
    "    skf_lr_models.append(skf_lr)"
   ]
  },
  {
   "cell_type": "code",
   "execution_count": 83,
   "metadata": {},
   "outputs": [],
   "source": [
    "f1cv = [scores[2].reshape(1,-1) for scores in skf_lr_scores_cvtest]"
   ]
  },
  {
   "cell_type": "code",
   "execution_count": 87,
   "metadata": {},
   "outputs": [
    {
     "data": {
      "text/plain": [
       "array([0.        , 0.22488314, 0.32800321, 0.01568627, 0.03556188,\n",
       "       0.5681946 , 0.62132543, 0.0204434 ])"
      ]
     },
     "execution_count": 87,
     "metadata": {},
     "output_type": "execute_result"
    }
   ],
   "source": [
    "np.concatenate(tuple(f1cv), axis=0).mean(axis=0)"
   ]
  },
  {
   "cell_type": "code",
   "execution_count": 89,
   "metadata": {},
   "outputs": [],
   "source": [
    "mlp = MLPClassifier(hidden_layer_sizes=(100,16))"
   ]
  },
  {
   "cell_type": "code",
   "execution_count": 101,
   "metadata": {},
   "outputs": [
    {
     "name": "stdout",
     "output_type": "stream",
     "text": [
      "Fold\n",
      "\n",
      "cv test\n",
      " (array([0.        , 0.375     , 0.31767614, 0.        , 0.        ,\n",
      "       0.54237288, 0.55247286, 0.        ]), array([0.        , 0.03846154, 0.5990676 , 0.        , 0.        ,\n",
      "       0.51612903, 0.59791123, 0.        ]), array([0.        , 0.06976744, 0.41518578, 0.        , 0.        ,\n",
      "       0.52892562, 0.57429467, 0.        ]), array([ 71,  78, 429,  75,  35,  62, 766, 189], dtype=int64))\n",
      "cv train\n",
      " (array([0.        , 0.55      , 0.31932773, 0.        , 0.        ,\n",
      "       0.66019417, 0.52872143, 0.        ]), array([0.        , 0.07051282, 0.62077013, 0.        , 0.        ,\n",
      "       0.5483871 , 0.55874674, 0.        ]), array([0.        , 0.125     , 0.42172017, 0.        , 0.        ,\n",
      "       0.59911894, 0.54331958, 0.        ]), array([ 142,  156,  857,  152,   68,  124, 1532,  377], dtype=int64))\n"
     ]
    },
    {
     "name": "stderr",
     "output_type": "stream",
     "text": [
      "C:\\Users\\smcko\\Anaconda3\\envs\\datascience\\lib\\site-packages\\sklearn\\metrics\\_classification.py:1245: UndefinedMetricWarning: Precision and F-score are ill-defined and being set to 0.0 in labels with no predicted samples. Use `zero_division` parameter to control this behavior.\n",
      "  _warn_prf(average, modifier, msg_start, len(result))\n",
      "C:\\Users\\smcko\\Anaconda3\\envs\\datascience\\lib\\site-packages\\sklearn\\metrics\\_classification.py:1245: UndefinedMetricWarning: Precision and F-score are ill-defined and being set to 0.0 in labels with no predicted samples. Use `zero_division` parameter to control this behavior.\n",
      "  _warn_prf(average, modifier, msg_start, len(result))\n"
     ]
    },
    {
     "name": "stdout",
     "output_type": "stream",
     "text": [
      "Fold\n",
      "\n",
      "cv test\n",
      " (array([0.        , 1.        , 0.27777778, 0.        , 0.        ,\n",
      "       0.        , 0.4533571 , 0.        ]), array([0.        , 0.03846154, 0.01168224, 0.        , 0.        ,\n",
      "       0.        , 0.99608355, 0.        ]), array([0.        , 0.07407407, 0.02242152, 0.        , 0.        ,\n",
      "       0.        , 0.62311147, 0.        ]), array([ 71,  78, 428,  76,  34,  62, 766, 189], dtype=int64))\n",
      "cv train\n",
      " (array([0.        , 1.        , 0.37254902, 0.        , 0.        ,\n",
      "       1.        , 0.45416542, 0.        ]), array([0.        , 0.03846154, 0.02214452, 0.        , 0.        ,\n",
      "       0.02419355, 0.99281984, 0.        ]), array([0.        , 0.07407407, 0.04180418, 0.        , 0.        ,\n",
      "       0.04724409, 0.62323294, 0.        ]), array([ 142,  156,  858,  151,   69,  124, 1532,  377], dtype=int64))\n"
     ]
    },
    {
     "name": "stderr",
     "output_type": "stream",
     "text": [
      "C:\\Users\\smcko\\Anaconda3\\envs\\datascience\\lib\\site-packages\\sklearn\\metrics\\_classification.py:1245: UndefinedMetricWarning: Precision and F-score are ill-defined and being set to 0.0 in labels with no predicted samples. Use `zero_division` parameter to control this behavior.\n",
      "  _warn_prf(average, modifier, msg_start, len(result))\n",
      "C:\\Users\\smcko\\Anaconda3\\envs\\datascience\\lib\\site-packages\\sklearn\\metrics\\_classification.py:1245: UndefinedMetricWarning: Precision and F-score are ill-defined and being set to 0.0 in labels with no predicted samples. Use `zero_division` parameter to control this behavior.\n",
      "  _warn_prf(average, modifier, msg_start, len(result))\n"
     ]
    },
    {
     "name": "stdout",
     "output_type": "stream",
     "text": [
      "Fold\n",
      "\n",
      "cv test\n",
      " (array([0.        , 1.        , 0.33977901, 0.        , 0.        ,\n",
      "       1.        , 0.47865169, 0.        ]), array([0.        , 0.01282051, 0.28671329, 0.        , 0.        ,\n",
      "       0.09677419, 0.83420366, 0.        ]), array([0.        , 0.02531646, 0.31099874, 0.        , 0.        ,\n",
      "       0.17647059, 0.60828177, 0.        ]), array([ 71,  78, 429,  76,  34,  62, 766, 188], dtype=int64))\n",
      "cv train\n",
      " (array([0.        , 1.        , 0.37215909, 0.        , 0.        ,\n",
      "       0.875     , 0.49199255, 0.        ]), array([0.        , 0.02564103, 0.30571762, 0.        , 0.        ,\n",
      "       0.11290323, 0.86227154, 0.        ]), array([0.        , 0.05      , 0.33568225, 0.        , 0.        ,\n",
      "       0.2       , 0.62651174, 0.        ]), array([ 142,  156,  857,  151,   69,  124, 1532,  378], dtype=int64))\n"
     ]
    },
    {
     "name": "stderr",
     "output_type": "stream",
     "text": [
      "C:\\Users\\smcko\\Anaconda3\\envs\\datascience\\lib\\site-packages\\sklearn\\metrics\\_classification.py:1245: UndefinedMetricWarning: Precision and F-score are ill-defined and being set to 0.0 in labels with no predicted samples. Use `zero_division` parameter to control this behavior.\n",
      "  _warn_prf(average, modifier, msg_start, len(result))\n",
      "C:\\Users\\smcko\\Anaconda3\\envs\\datascience\\lib\\site-packages\\sklearn\\metrics\\_classification.py:1245: UndefinedMetricWarning: Precision and F-score are ill-defined and being set to 0.0 in labels with no predicted samples. Use `zero_division` parameter to control this behavior.\n",
      "  _warn_prf(average, modifier, msg_start, len(result))\n"
     ]
    }
   ],
   "source": [
    "skf1 = StratifiedKFold(3)\n",
    "skf_mlp_models = []\n",
    "skf_mlp_scores_cvtest = []\n",
    "skf_mlp_scores_cvtrain = []\n",
    "for train_ixes, test_ixes in skf1.split(X_train, y_train):\n",
    "    #print(x_ixes, y_ixes)\n",
    "    skf_mlp = MLPClassifier(hidden_layer_sizes=(500,100), alpha=1)\n",
    "    skf_mlp.fit(X_train[train_ixes,:], y_train[train_ixes])\n",
    "    skf_mlp_models.append(skf_lr)\n",
    "    y_pred_train = skf_mlp.predict(X_train[train_ixes,:])\n",
    "    y_pred_test = skf_mlp.predict(X_train[test_ixes,:])\n",
    "    \n",
    "    print('Fold\\n')\n",
    "    score_cvtrain = precision_recall_fscore_support(y_train[train_ixes], y_pred_train)\n",
    "    score_cvtest = precision_recall_fscore_support(y_train[test_ixes], y_pred_test)\n",
    "    print('cv test\\n', score_cvtest)\n",
    "    print('cv train\\n', score_cvtrain)\n",
    "    skf_mlp_scores_cvtest.append(score_cvtest)\n",
    "    skf_mlp_scores_cvtrain.append(score_cvtrain)\n",
    "    skf_mlp_models.append(skf_lr)"
   ]
  },
  {
   "cell_type": "code",
   "execution_count": 100,
   "metadata": {},
   "outputs": [
    {
     "data": {
      "text/plain": [
       "array([0.        , 0.05614237, 0.40290925, 0.        , 0.        ,\n",
       "       0.21450415, 0.59713555, 0.01377038])"
      ]
     },
     "execution_count": 100,
     "metadata": {},
     "output_type": "execute_result"
    }
   ],
   "source": [
    "f1cvmlp = [scores[2].reshape(1,-1) for scores in skf_mlp_scores_cvtest]\n",
    "np.concatenate(tuple(f1cvmlp), axis=0).mean(axis=0)"
   ]
  },
  {
   "cell_type": "code",
   "execution_count": null,
   "metadata": {},
   "outputs": [],
   "source": [
    "array([0.        , 0.22488314, 0.32800321, 0.01568627, 0.03556188,\n",
    "       0.5681946 , 0.62132543, 0.0204434 ])"
   ]
  }
 ],
 "metadata": {
  "kernelspec": {
   "display_name": "Python 3",
   "language": "python",
   "name": "python3"
  },
  "language_info": {
   "codemirror_mode": {
    "name": "ipython",
    "version": 3
   },
   "file_extension": ".py",
   "mimetype": "text/x-python",
   "name": "python",
   "nbconvert_exporter": "python",
   "pygments_lexer": "ipython3",
   "version": "3.8.8"
  }
 },
 "nbformat": 4,
 "nbformat_minor": 4
}
